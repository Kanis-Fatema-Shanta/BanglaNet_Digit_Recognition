{
 "cells": [
  {
   "cell_type": "code",
   "execution_count": 54,
   "metadata": {},
   "outputs": [],
   "source": [
    "base_dir = './BanglaDigit_Data/dataset'"
   ]
  },
  {
   "cell_type": "code",
   "execution_count": 55,
   "metadata": {},
   "outputs": [],
   "source": [
    "from tensorflow.keras import Model\n",
    "from tensorflow.keras.models import Sequential\n",
    "from tensorflow.keras.layers import Dense, Dropout, Conv2D, MaxPool2D, Flatten"
   ]
  },
  {
   "cell_type": "code",
   "execution_count": 56,
   "metadata": {},
   "outputs": [],
   "source": [
    "import tensorflow as tf"
   ]
  },
  {
   "cell_type": "code",
   "execution_count": 57,
   "metadata": {},
   "outputs": [],
   "source": [
    "# building a linear stack of layers with the sequential model\n",
    "model = Sequential()\n",
    "\n",
    "# convolutional layer\n",
    "model.add(Conv2D(32, kernel_size=(5,5), padding='same', activation='relu', input_shape=(32, 32, 1)))\n",
    "\n",
    "# convolutional layer 2\n",
    "model.add(Conv2D(32, kernel_size=(5,5), padding='same', activation='relu'))\n",
    "model.add(MaxPool2D(pool_size=(2,2)))\n",
    "model.add(Dropout(0.25))\n",
    "#convolution layer 3\n",
    "model.add(Conv2D(64, kernel_size=(3,3), padding='same', activation='relu'))\n",
    "model.add(Conv2D(64, kernel_size=(3,3), padding='same', activation='relu'))\n",
    "model.add(MaxPool2D(pool_size=(2,2)))\n",
    "model.add(Dropout(0.25))\n",
    "\n",
    "# flatten output of conv\n",
    "model.add(Flatten())\n",
    "\n",
    "# hidden layer\n",
    "model.add(Dense(256, activation='relu'))\n",
    "model.add(Dropout(0.25))\n",
    "# output layer\n",
    "model.add(Dense(10, activation='softmax'))\n",
    "\n"
   ]
  },
  {
   "cell_type": "code",
   "execution_count": 58,
   "metadata": {},
   "outputs": [
    {
     "name": "stdout",
     "output_type": "stream",
     "text": [
      "Model: \"sequential_4\"\n",
      "_________________________________________________________________\n",
      " Layer (type)                Output Shape              Param #   \n",
      "=================================================================\n",
      " conv2d_16 (Conv2D)          (None, 32, 32, 32)        832       \n",
      "                                                                 \n",
      " conv2d_17 (Conv2D)          (None, 32, 32, 32)        25632     \n",
      "                                                                 \n",
      " max_pooling2d_8 (MaxPooling  (None, 16, 16, 32)       0         \n",
      " 2D)                                                             \n",
      "                                                                 \n",
      " dropout_12 (Dropout)        (None, 16, 16, 32)        0         \n",
      "                                                                 \n",
      " conv2d_18 (Conv2D)          (None, 16, 16, 64)        18496     \n",
      "                                                                 \n",
      " conv2d_19 (Conv2D)          (None, 16, 16, 64)        36928     \n",
      "                                                                 \n",
      " max_pooling2d_9 (MaxPooling  (None, 8, 8, 64)         0         \n",
      " 2D)                                                             \n",
      "                                                                 \n",
      " dropout_13 (Dropout)        (None, 8, 8, 64)          0         \n",
      "                                                                 \n",
      " flatten_4 (Flatten)         (None, 4096)              0         \n",
      "                                                                 \n",
      " dense_8 (Dense)             (None, 256)               1048832   \n",
      "                                                                 \n",
      " dropout_14 (Dropout)        (None, 256)               0         \n",
      "                                                                 \n",
      " dense_9 (Dense)             (None, 10)                2570      \n",
      "                                                                 \n",
      "=================================================================\n",
      "Total params: 1,133,290\n",
      "Trainable params: 1,133,290\n",
      "Non-trainable params: 0\n",
      "_________________________________________________________________\n"
     ]
    }
   ],
   "source": [
    "model.summary()"
   ]
  },
  {
   "cell_type": "code",
   "execution_count": 59,
   "metadata": {},
   "outputs": [],
   "source": [
    "from tensorflow.keras.optimizers import RMSprop\n",
    "\n",
    "model.compile(loss='categorical_crossentropy',\n",
    "              optimizer=RMSprop(learning_rate=0.001),\n",
    "              metrics=['accuracy'])\n",
    "# compiling the sequential model\n",
    "# model.compile(loss='categorical_crossentropy', metrics=['accuracy'], optimizer='adam')"
   ]
  },
  {
   "cell_type": "code",
   "execution_count": 60,
   "metadata": {},
   "outputs": [
    {
     "name": "stdout",
     "output_type": "stream",
     "text": [
      "Found 402 images belonging to 10 classes.\n",
      "Found 68 images belonging to 10 classes.\n"
     ]
    }
   ],
   "source": [
    "from tensorflow.keras.preprocessing.image import ImageDataGenerator\n",
    "# All images will be rescaled by 1./255\n",
    "train_datagen = ImageDataGenerator(rescale=1.0 / 255.0, width_shift_range=0.1,\n",
    "                                           height_shift_range=0.1,\n",
    "                                           validation_split=0.15\n",
    "                                           # vertical_flip=True,zoom_range=0.2\n",
    "                                           )\n",
    "\n",
    "# Flow training images in batches of 20 using train_datagen generator\n",
    "train_it = train_datagen.flow_from_directory(base_dir, class_mode=\"categorical\",color_mode=\"grayscale\",\n",
    "                                                 batch_size=10, target_size=(32, 32), subset='training',\n",
    "                                                 shuffle=True)  # target_size could be(128,128)\n",
    "test_it = train_datagen.flow_from_directory(base_dir, class_mode=\"categorical\",color_mode=\"grayscale\",\n",
    "                                                batch_size=10, target_size=(32, 32), subset='validation',\n",
    "                                                shuffle=True)"
   ]
  },
  {
   "cell_type": "code",
   "execution_count": 61,
   "metadata": {},
   "outputs": [
    {
     "name": "stdout",
     "output_type": "stream",
     "text": [
      "Epoch 1/50\n",
      "41/41 [==============================] - 5s 100ms/step - loss: 2.4619 - accuracy: 0.0746 - val_loss: 2.3021 - val_accuracy: 0.1176\n",
      "Epoch 2/50\n",
      "41/41 [==============================] - 4s 94ms/step - loss: 2.3130 - accuracy: 0.0896 - val_loss: 2.3016 - val_accuracy: 0.1471\n",
      "Epoch 3/50\n",
      "41/41 [==============================] - 4s 92ms/step - loss: 2.3049 - accuracy: 0.0896 - val_loss: 2.2864 - val_accuracy: 0.2059\n",
      "Epoch 4/50\n",
      "41/41 [==============================] - 4s 90ms/step - loss: 2.0096 - accuracy: 0.3010 - val_loss: 1.8364 - val_accuracy: 0.3676\n",
      "Epoch 5/50\n",
      "41/41 [==============================] - 4s 89ms/step - loss: 1.5942 - accuracy: 0.4602 - val_loss: 1.5108 - val_accuracy: 0.4412\n",
      "Epoch 6/50\n",
      "41/41 [==============================] - 4s 98ms/step - loss: 1.3398 - accuracy: 0.5821 - val_loss: 1.3501 - val_accuracy: 0.5588\n",
      "Epoch 7/50\n",
      "41/41 [==============================] - 4s 95ms/step - loss: 1.2423 - accuracy: 0.6020 - val_loss: 1.0840 - val_accuracy: 0.6912\n",
      "Epoch 8/50\n",
      "41/41 [==============================] - 4s 90ms/step - loss: 1.0067 - accuracy: 0.6692 - val_loss: 1.2310 - val_accuracy: 0.5735\n",
      "Epoch 9/50\n",
      "41/41 [==============================] - 4s 88ms/step - loss: 0.9037 - accuracy: 0.7264 - val_loss: 0.9689 - val_accuracy: 0.6765\n",
      "Epoch 10/50\n",
      "41/41 [==============================] - 4s 93ms/step - loss: 0.7770 - accuracy: 0.7488 - val_loss: 0.9570 - val_accuracy: 0.6618\n",
      "Epoch 11/50\n",
      "41/41 [==============================] - 4s 97ms/step - loss: 0.7865 - accuracy: 0.7537 - val_loss: 1.0520 - val_accuracy: 0.6176\n",
      "Epoch 12/50\n",
      "41/41 [==============================] - 4s 91ms/step - loss: 0.6227 - accuracy: 0.7761 - val_loss: 0.9934 - val_accuracy: 0.6029\n",
      "Epoch 13/50\n",
      "41/41 [==============================] - 4s 89ms/step - loss: 0.5509 - accuracy: 0.8259 - val_loss: 0.9749 - val_accuracy: 0.6618\n",
      "Epoch 14/50\n",
      "41/41 [==============================] - 4s 94ms/step - loss: 0.5511 - accuracy: 0.8308 - val_loss: 1.0232 - val_accuracy: 0.6618\n",
      "Epoch 15/50\n",
      "41/41 [==============================] - 4s 96ms/step - loss: 0.5428 - accuracy: 0.8159 - val_loss: 0.8177 - val_accuracy: 0.7206\n",
      "Epoch 16/50\n",
      "41/41 [==============================] - 4s 92ms/step - loss: 0.4561 - accuracy: 0.8408 - val_loss: 1.2722 - val_accuracy: 0.6765\n",
      "Epoch 17/50\n",
      "41/41 [==============================] - 4s 92ms/step - loss: 0.3900 - accuracy: 0.8557 - val_loss: 0.9373 - val_accuracy: 0.7206\n",
      "Epoch 18/50\n",
      "41/41 [==============================] - 4s 90ms/step - loss: 0.4156 - accuracy: 0.8731 - val_loss: 1.1516 - val_accuracy: 0.7059\n",
      "Epoch 19/50\n",
      "41/41 [==============================] - 4s 98ms/step - loss: 0.4326 - accuracy: 0.8607 - val_loss: 0.7588 - val_accuracy: 0.7206\n",
      "Epoch 20/50\n",
      "41/41 [==============================] - 4s 94ms/step - loss: 0.4599 - accuracy: 0.8483 - val_loss: 0.6932 - val_accuracy: 0.7794\n",
      "Epoch 21/50\n",
      "41/41 [==============================] - 4s 89ms/step - loss: 0.3960 - accuracy: 0.8756 - val_loss: 1.0929 - val_accuracy: 0.7206\n",
      "Epoch 22/50\n",
      "41/41 [==============================] - 4s 96ms/step - loss: 0.3973 - accuracy: 0.8706 - val_loss: 0.7676 - val_accuracy: 0.7059\n",
      "Epoch 23/50\n",
      "41/41 [==============================] - 4s 100ms/step - loss: 0.4054 - accuracy: 0.8557 - val_loss: 0.8223 - val_accuracy: 0.7206\n",
      "Epoch 24/50\n",
      "41/41 [==============================] - 4s 87ms/step - loss: 0.3014 - accuracy: 0.9154 - val_loss: 0.8108 - val_accuracy: 0.7647\n",
      "Epoch 25/50\n",
      "41/41 [==============================] - 4s 91ms/step - loss: 0.2968 - accuracy: 0.9005 - val_loss: 0.6510 - val_accuracy: 0.7941\n",
      "Epoch 26/50\n",
      "41/41 [==============================] - 4s 94ms/step - loss: 0.2909 - accuracy: 0.8930 - val_loss: 1.0019 - val_accuracy: 0.7794\n",
      "Epoch 27/50\n",
      "41/41 [==============================] - 4s 98ms/step - loss: 0.2719 - accuracy: 0.9104 - val_loss: 0.7383 - val_accuracy: 0.7794\n",
      "Epoch 28/50\n",
      "41/41 [==============================] - 4s 96ms/step - loss: 0.3340 - accuracy: 0.9129 - val_loss: 1.0607 - val_accuracy: 0.7500\n",
      "Epoch 29/50\n",
      "41/41 [==============================] - 4s 89ms/step - loss: 0.3147 - accuracy: 0.9080 - val_loss: 1.0514 - val_accuracy: 0.7647\n",
      "Epoch 30/50\n",
      "41/41 [==============================] - 4s 90ms/step - loss: 0.3231 - accuracy: 0.8905 - val_loss: 1.0523 - val_accuracy: 0.7059\n",
      "Epoch 31/50\n",
      "41/41 [==============================] - 4s 100ms/step - loss: 0.2703 - accuracy: 0.9129 - val_loss: 0.7362 - val_accuracy: 0.8088\n",
      "Epoch 32/50\n",
      "41/41 [==============================] - 4s 101ms/step - loss: 0.2278 - accuracy: 0.9154 - val_loss: 0.8318 - val_accuracy: 0.7794\n",
      "Epoch 33/50\n",
      "41/41 [==============================] - 5s 120ms/step - loss: 0.2178 - accuracy: 0.9353 - val_loss: 1.1170 - val_accuracy: 0.7353\n",
      "Epoch 34/50\n",
      "41/41 [==============================] - 5s 117ms/step - loss: 0.2718 - accuracy: 0.9154 - val_loss: 0.8785 - val_accuracy: 0.7206\n",
      "Epoch 35/50\n",
      "41/41 [==============================] - 4s 104ms/step - loss: 0.2228 - accuracy: 0.9104 - val_loss: 0.9822 - val_accuracy: 0.7647\n",
      "Epoch 36/50\n",
      "41/41 [==============================] - 4s 94ms/step - loss: 0.2066 - accuracy: 0.9179 - val_loss: 1.0007 - val_accuracy: 0.7353\n",
      "Epoch 37/50\n",
      "41/41 [==============================] - 4s 92ms/step - loss: 0.2558 - accuracy: 0.9527 - val_loss: 0.8460 - val_accuracy: 0.7647\n",
      "Epoch 38/50\n",
      "41/41 [==============================] - 4s 96ms/step - loss: 0.2535 - accuracy: 0.9179 - val_loss: 0.7101 - val_accuracy: 0.7941\n",
      "Epoch 39/50\n",
      "41/41 [==============================] - 4s 93ms/step - loss: 0.2339 - accuracy: 0.9129 - val_loss: 0.8129 - val_accuracy: 0.7500\n",
      "Epoch 40/50\n",
      "41/41 [==============================] - 4s 107ms/step - loss: 0.2077 - accuracy: 0.9328 - val_loss: 0.7379 - val_accuracy: 0.8088\n",
      "Epoch 41/50\n",
      "41/41 [==============================] - 5s 110ms/step - loss: 0.1977 - accuracy: 0.9478 - val_loss: 1.1129 - val_accuracy: 0.7059\n",
      "Epoch 42/50\n",
      "41/41 [==============================] - 4s 108ms/step - loss: 0.2096 - accuracy: 0.9303 - val_loss: 0.8298 - val_accuracy: 0.7647\n",
      "Epoch 43/50\n",
      "41/41 [==============================] - 4s 109ms/step - loss: 0.1693 - accuracy: 0.9577 - val_loss: 0.8933 - val_accuracy: 0.7353\n",
      "Epoch 44/50\n",
      "41/41 [==============================] - 5s 126ms/step - loss: 0.1934 - accuracy: 0.9328 - val_loss: 0.6404 - val_accuracy: 0.7941\n",
      "Epoch 45/50\n",
      "41/41 [==============================] - 5s 113ms/step - loss: 0.1297 - accuracy: 0.9478 - val_loss: 1.1253 - val_accuracy: 0.7647\n",
      "Epoch 46/50\n",
      "41/41 [==============================] - 4s 105ms/step - loss: 0.2478 - accuracy: 0.9328 - val_loss: 0.7133 - val_accuracy: 0.7500\n",
      "Epoch 47/50\n",
      "41/41 [==============================] - 4s 99ms/step - loss: 0.1861 - accuracy: 0.9577 - val_loss: 0.9742 - val_accuracy: 0.7500\n",
      "Epoch 48/50\n",
      "41/41 [==============================] - 4s 99ms/step - loss: 0.2312 - accuracy: 0.9303 - val_loss: 0.5763 - val_accuracy: 0.8088\n",
      "Epoch 49/50\n",
      "41/41 [==============================] - 5s 115ms/step - loss: 0.1298 - accuracy: 0.9726 - val_loss: 1.1454 - val_accuracy: 0.7353\n",
      "Epoch 50/50\n",
      "41/41 [==============================] - 4s 107ms/step - loss: 0.2009 - accuracy: 0.9502 - val_loss: 0.8263 - val_accuracy: 0.8088\n"
     ]
    }
   ],
   "source": [
    "history = model.fit(train_it, steps_per_epoch=len(train_it),validation_data=test_it, validation_steps=len(test_it), epochs=50, verbose=1)"
   ]
  },
  {
   "cell_type": "code",
   "execution_count": 62,
   "metadata": {},
   "outputs": [],
   "source": [
    "model.save(\"Mathnet.h5\")"
   ]
  },
  {
   "cell_type": "code",
   "execution_count": 63,
   "metadata": {},
   "outputs": [],
   "source": [
    "_, acc = model.evaluate(test_it, steps=len(test_it), verbose=0)"
   ]
  },
  {
   "cell_type": "code",
   "execution_count": 64,
   "metadata": {},
   "outputs": [
    {
     "name": "stdout",
     "output_type": "stream",
     "text": [
      "Accuracy of test> 80.882\n"
     ]
    }
   ],
   "source": [
    "print('Accuracy of test> %.3f' % (acc * 100.0))"
   ]
  },
  {
   "cell_type": "code",
   "execution_count": 65,
   "metadata": {},
   "outputs": [
    {
     "data": {
      "text/plain": [
       "Text(0.5, 1.0, 'Training and validation loss')"
      ]
     },
     "execution_count": 65,
     "metadata": {},
     "output_type": "execute_result"
    },
    {
     "data": {
      "image/png": "[encoded data removed]",
      "text/plain": [
       "<Figure size 432x288 with 1 Axes>"
      ]
     },
     "metadata": {
      "needs_background": "light"
     },
     "output_type": "display_data"
    },
    {
     "data": {
      "image/png": "[encoded data removed]",
      "text/plain": [
       "<Figure size 432x288 with 1 Axes>"
      ]
     },
     "metadata": {
      "needs_background": "light"
     },
     "output_type": "display_data"
    }
   ],
   "source": [
    "import matplotlib.pyplot as plt\n",
    "# Retrieve a list of accuracy results on training and validation data\n",
    "# sets for each training epoch\n",
    "acc = history.history['accuracy']\n",
    "val_acc = history.history['val_accuracy']\n",
    "\n",
    "# Retrieve a list of list results on training and validation data\n",
    "# sets for each training epoch\n",
    "loss = history.history['loss']\n",
    "val_loss = history.history['val_loss']\n",
    "\n",
    "# Get number of epochs\n",
    "epochs = range(len(acc))\n",
    "\n",
    "# Plot training and validation accuracy per epoch\n",
    "plt.plot(epochs, acc, label = 'acc')\n",
    "plt.plot(epochs, val_acc , label = 'Val_acc')\n",
    "plt.legend()\n",
    "plt.title('Training and validation accuracy')\n",
    "\n",
    "plt.figure()\n",
    "\n",
    "# Plot training and validation loss per epoch\n",
    "plt.plot(epochs, loss, label = 'loss')\n",
    "plt.plot(epochs, val_loss, label = 'val_loss')\n",
    "plt.legend()\n",
    "plt.title('Training and validation loss')"
   ]
  },
  {
   "cell_type": "code",
   "execution_count": 66,
   "metadata": {},
   "outputs": [],
   "source": [
    "y_pred = model.predict(test_it)"
   ]
  },
  {
   "cell_type": "code",
   "execution_count": 67,
   "metadata": {},
   "outputs": [
    {
     "data": {
      "text/plain": [
       "array([1, 3, 1, 7, 6, 2, 6, 2, 9, 0, 8, 7, 9, 2, 9, 0, 7, 1, 3, 4, 7, 2,\n",
       "       1, 8, 6, 9, 6, 1, 4, 0, 6, 1, 0, 2, 7, 7, 6, 0, 2, 1, 9, 9, 5, 7,\n",
       "       5, 5, 0, 3, 2, 7, 0, 9, 1, 9, 5, 8, 6, 1, 0, 2, 3, 5, 8, 3, 7, 4,\n",
       "       2, 8], dtype=int64)"
      ]
     },
     "execution_count": 67,
     "metadata": {},
     "output_type": "execute_result"
    }
   ],
   "source": [
    "import numpy as np\n",
    "y_pred_t = np.argmax(y_pred, axis = 1)\n",
    "y_pred_t"
   ]
  },
  {
   "cell_type": "code",
   "execution_count": 68,
   "metadata": {},
   "outputs": [],
   "source": [
    "from sklearn.metrics import confusion_matrix\n",
    "conf_mat = confusion_matrix(test_it.labels, y_pred_t)"
   ]
  },
  {
   "cell_type": "code",
   "execution_count": 69,
   "metadata": {},
   "outputs": [
    {
     "data": {
      "text/plain": [
       "array([[0, 2, 1, 1, 0, 0, 1, 1, 0, 0],\n",
       "       [1, 0, 1, 0, 0, 0, 1, 1, 1, 2],\n",
       "       [1, 1, 1, 1, 1, 0, 0, 1, 0, 1],\n",
       "       [0, 1, 1, 0, 0, 0, 2, 1, 1, 1],\n",
       "       [2, 2, 0, 0, 1, 0, 1, 0, 0, 0],\n",
       "       [1, 1, 2, 0, 0, 0, 1, 2, 0, 0],\n",
       "       [1, 0, 0, 0, 0, 3, 0, 1, 0, 2],\n",
       "       [1, 1, 1, 1, 0, 0, 0, 1, 0, 2],\n",
       "       [1, 1, 1, 1, 0, 1, 1, 0, 1, 0],\n",
       "       [0, 0, 1, 1, 1, 1, 0, 1, 2, 0]], dtype=int64)"
      ]
     },
     "execution_count": 69,
     "metadata": {},
     "output_type": "execute_result"
    }
   ],
   "source": [
    "conf_mat"
   ]
  },
  {
   "cell_type": "code",
   "execution_count": null,
   "metadata": {},
   "outputs": [],
   "source": []
  }
 ],
 "metadata": {
  "kernelspec": {
   "display_name": "Python 3",
   "language": "python",
   "name": "python3"
  },
  "language_info": {
   "codemirror_mode": {
    "name": "ipython",
    "version": 3
   },
   "file_extension": ".py",
   "mimetype": "text/x-python",
   "name": "python",
   "nbconvert_exporter": "python",
   "pygments_lexer": "ipython3",
   "version": "3.8.3"
  }
 },
 "nbformat": 4,
 "nbformat_minor": 4
}
