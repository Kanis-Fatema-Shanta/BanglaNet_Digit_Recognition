{
 "cells": [
  {
   "cell_type": "code",
   "execution_count": null,
   "metadata": {
    "colab": {
     "base_uri": "https://localhost:8080/"
    },
    "id": "617Gof3fNiWu",
    "outputId": "cb9b31b7-7ea7-40fd-e68b-25f953848fde"
   },
   "outputs": [],
   "source": []
  },
  {
   "cell_type": "code",
   "execution_count": null,
   "metadata": {
    "id": "8sktaq-gzi2S"
   },
   "outputs": [],
   "source": []
  },
  {
   "cell_type": "code",
   "execution_count": 1,
   "metadata": {
    "colab": {
     "base_uri": "https://localhost:8080/"
    },
    "id": "SMWRRJ-UOAfi",
    "outputId": "d383fe34-4a50-4138-dc04-64469524231a"
   },
   "outputs": [
    {
     "name": "stdout",
     "output_type": "stream",
     "text": [
      "2.7.0\n"
     ]
    }
   ],
   "source": [
    "import tensorflow as tf\n",
    "print(tf.__version__)"
   ]
  },
  {
   "cell_type": "code",
   "execution_count": 2,
   "metadata": {
    "id": "8lAMc9KVOAfj"
   },
   "outputs": [],
   "source": [
    "import warnings\n",
    "warnings.filterwarnings('ignore')\n",
    "import cv2\n",
    "import numpy as np\n",
    "import os\n",
    "import matplotlib.pyplot as plt\n",
    "from sklearn.model_selection import train_test_split\n",
    "from tensorflow import keras \n",
    "from tensorflow.keras.preprocessing.image import ImageDataGenerator\n",
    "from keras.utils.np_utils import to_categorical\n",
    "from keras.models import Sequential\n",
    "from keras.layers import Conv2D, Dense, MaxPooling2D, Activation, Dropout, Flatten, MaxPool2D\n",
    "#from tensorflow.keras.optimizers import Adam\n",
    "from tensorflow.keras.optimizers import RMSprop\n",
    "\n",
    "path='./Dataset/Numbers'\n",
    "images=[]\n",
    "classNo=[]\n",
    "testRatio=0.2\n",
    "valRatio=0.2\n",
    "imgDimension=(28,28,3)"
   ]
  },
  {
   "cell_type": "code",
   "execution_count": 3,
   "metadata": {
    "colab": {
     "base_uri": "https://localhost:8080/"
    },
    "id": "JV1pfwXAOAfk",
    "outputId": "85f10205-a2c4-4ada-cf97-699fd22cc93b"
   },
   "outputs": [
    {
     "name": "stdout",
     "output_type": "stream",
     "text": [
      "Importing Classes..........\n",
      "0\n",
      "1\n",
      "2\n",
      "3\n",
      "4\n",
      "5\n",
      "6\n",
      "7\n",
      "8\n",
      "9\n"
     ]
    }
   ],
   "source": [
    "myList=os.listdir(path)\n",
    "\n",
    "numOfClasses=len(myList)\n",
    "\n",
    "print(\"Importing Classes..........\")\n",
    "for x in range(0, numOfClasses):\n",
    "    myPicList=os.listdir(path+\"/\"+str(x))\n",
    "    for y in myPicList:\n",
    "        try:\n",
    "            curImg=cv2.imread(path+\"/\"+str(x)+\"/\"+y)\n",
    "            curImg=cv2.resize(curImg,(imgDimension[0],imgDimension[1]))\n",
    "            images.append(curImg)\n",
    "            classNo.append(x)\n",
    "        except:\n",
    "            pass\n",
    "    print(x)\n",
    "\n",
    "images=np.array(images)\n",
    "classNo=np.array(classNo)"
   ]
  },
  {
   "cell_type": "code",
   "execution_count": 4,
   "metadata": {
    "id": "frJCTRrFOAfl"
   },
   "outputs": [],
   "source": [
    "x_train, x_test, y_train, y_test=train_test_split(images, classNo, test_size=testRatio)\n",
    "x_train, x_validation, y_train, y_validation=train_test_split(x_train, y_train, test_size=valRatio)"
   ]
  },
  {
   "cell_type": "code",
   "execution_count": 5,
   "metadata": {
    "colab": {
     "base_uri": "https://localhost:8080/"
    },
    "id": "C3uW2yv_e3FP",
    "outputId": "0b719083-594b-4a85-bfc2-a62d3d6bc7d1"
   },
   "outputs": [
    {
     "data": {
      "text/plain": [
       "array([2, 1, 1, ..., 1, 5, 0])"
      ]
     },
     "execution_count": 5,
     "metadata": {},
     "output_type": "execute_result"
    }
   ],
   "source": [
    "y_train"
   ]
  },
  {
   "cell_type": "code",
   "execution_count": 6,
   "metadata": {
    "colab": {
     "base_uri": "https://localhost:8080/"
    },
    "id": "CcmHsPNVesPu",
    "outputId": "9419e1eb-ca5d-42fb-d1ba-77c2ae5994a9"
   },
   "outputs": [
    {
     "data": {
      "text/plain": [
       "array([[[[255, 255, 255],\n",
       "         [255, 255, 255],\n",
       "         [255, 255, 255],\n",
       "         ...,\n",
       "         [255, 255, 255],\n",
       "         [255, 255, 255],\n",
       "         [255, 255, 255]],\n",
       "\n",
       "        [[255, 255, 255],\n",
       "         [255, 255, 255],\n",
       "         [255, 255, 255],\n",
       "         ...,\n",
       "         [255, 255, 255],\n",
       "         [255, 255, 255],\n",
       "         [255, 255, 255]],\n",
       "\n",
       "        [[255, 255, 255],\n",
       "         [255, 255, 255],\n",
       "         [255, 255, 255],\n",
       "         ...,\n",
       "         [255, 255, 255],\n",
       "         [255, 255, 255],\n",
       "         [255, 255, 255]],\n",
       "\n",
       "        ...,\n",
       "\n",
       "        [[252, 252, 252],\n",
       "         [253, 253, 253],\n",
       "         [230, 230, 230],\n",
       "         ...,\n",
       "         [255, 255, 255],\n",
       "         [255, 255, 255],\n",
       "         [255, 255, 255]],\n",
       "\n",
       "        [[254, 254, 254],\n",
       "         [253, 253, 253],\n",
       "         [171, 171, 171],\n",
       "         ...,\n",
       "         [255, 255, 255],\n",
       "         [255, 255, 255],\n",
       "         [255, 255, 255]],\n",
       "\n",
       "        [[254, 254, 254],\n",
       "         [252, 252, 252],\n",
       "         [240, 240, 240],\n",
       "         ...,\n",
       "         [255, 255, 255],\n",
       "         [255, 255, 255],\n",
       "         [255, 255, 255]]],\n",
       "\n",
       "\n",
       "       [[[255, 255, 255],\n",
       "         [255, 255, 255],\n",
       "         [255, 255, 255],\n",
       "         ...,\n",
       "         [255, 255, 255],\n",
       "         [255, 255, 255],\n",
       "         [255, 255, 255]],\n",
       "\n",
       "        [[254, 254, 254],\n",
       "         [255, 255, 255],\n",
       "         [255, 255, 255],\n",
       "         ...,\n",
       "         [252, 252, 252],\n",
       "         [253, 253, 253],\n",
       "         [254, 254, 254]],\n",
       "\n",
       "        [[254, 254, 254],\n",
       "         [255, 255, 255],\n",
       "         [255, 255, 255],\n",
       "         ...,\n",
       "         [146, 146, 146],\n",
       "         [251, 251, 251],\n",
       "         [254, 254, 254]],\n",
       "\n",
       "        ...,\n",
       "\n",
       "        [[254, 254, 254],\n",
       "         [255, 255, 255],\n",
       "         [255, 255, 255],\n",
       "         ...,\n",
       "         [255, 255, 255],\n",
       "         [255, 255, 255],\n",
       "         [255, 255, 255]],\n",
       "\n",
       "        [[254, 254, 254],\n",
       "         [254, 254, 254],\n",
       "         [255, 255, 255],\n",
       "         ...,\n",
       "         [255, 255, 255],\n",
       "         [255, 255, 255],\n",
       "         [255, 255, 255]],\n",
       "\n",
       "        [[253, 253, 253],\n",
       "         [253, 253, 253],\n",
       "         [253, 253, 253],\n",
       "         ...,\n",
       "         [253, 253, 253],\n",
       "         [254, 254, 254],\n",
       "         [254, 254, 254]]],\n",
       "\n",
       "\n",
       "       [[[254, 254, 254],\n",
       "         [255, 255, 255],\n",
       "         [252, 252, 252],\n",
       "         ...,\n",
       "         [255, 255, 255],\n",
       "         [255, 255, 255],\n",
       "         [255, 255, 255]],\n",
       "\n",
       "        [[255, 255, 255],\n",
       "         [253, 253, 253],\n",
       "         [253, 253, 253],\n",
       "         ...,\n",
       "         [254, 254, 254],\n",
       "         [255, 255, 255],\n",
       "         [255, 255, 255]],\n",
       "\n",
       "        [[254, 254, 254],\n",
       "         [253, 253, 253],\n",
       "         [253, 253, 253],\n",
       "         ...,\n",
       "         [255, 255, 255],\n",
       "         [255, 255, 255],\n",
       "         [255, 255, 255]],\n",
       "\n",
       "        ...,\n",
       "\n",
       "        [[254, 254, 254],\n",
       "         [255, 255, 255],\n",
       "         [254, 254, 254],\n",
       "         ...,\n",
       "         [254, 254, 254],\n",
       "         [254, 254, 254],\n",
       "         [254, 254, 254]],\n",
       "\n",
       "        [[255, 255, 255],\n",
       "         [255, 255, 255],\n",
       "         [255, 255, 255],\n",
       "         ...,\n",
       "         [252, 252, 252],\n",
       "         [254, 254, 254],\n",
       "         [254, 254, 254]],\n",
       "\n",
       "        [[255, 255, 255],\n",
       "         [255, 255, 255],\n",
       "         [254, 254, 254],\n",
       "         ...,\n",
       "         [253, 253, 253],\n",
       "         [254, 254, 254],\n",
       "         [254, 254, 254]]],\n",
       "\n",
       "\n",
       "       ...,\n",
       "\n",
       "\n",
       "       [[[221, 221, 221],\n",
       "         [213, 213, 213],\n",
       "         [193, 193, 193],\n",
       "         ...,\n",
       "         [180, 180, 180],\n",
       "         [234, 234, 234],\n",
       "         [216, 216, 216]],\n",
       "\n",
       "        [[252, 252, 252],\n",
       "         [254, 254, 254],\n",
       "         [253, 253, 253],\n",
       "         ...,\n",
       "         [254, 254, 254],\n",
       "         [254, 254, 254],\n",
       "         [252, 252, 252]],\n",
       "\n",
       "        [[255, 255, 255],\n",
       "         [255, 255, 255],\n",
       "         [255, 255, 255],\n",
       "         ...,\n",
       "         [255, 255, 255],\n",
       "         [255, 255, 255],\n",
       "         [255, 255, 255]],\n",
       "\n",
       "        ...,\n",
       "\n",
       "        [[255, 255, 255],\n",
       "         [255, 255, 255],\n",
       "         [255, 255, 255],\n",
       "         ...,\n",
       "         [255, 255, 255],\n",
       "         [255, 255, 255],\n",
       "         [255, 255, 255]],\n",
       "\n",
       "        [[255, 255, 255],\n",
       "         [255, 255, 255],\n",
       "         [255, 255, 255],\n",
       "         ...,\n",
       "         [255, 255, 255],\n",
       "         [255, 255, 255],\n",
       "         [255, 255, 255]],\n",
       "\n",
       "        [[255, 255, 255],\n",
       "         [255, 255, 255],\n",
       "         [255, 255, 255],\n",
       "         ...,\n",
       "         [255, 255, 255],\n",
       "         [255, 255, 255],\n",
       "         [255, 255, 255]]],\n",
       "\n",
       "\n",
       "       [[[255, 255, 255],\n",
       "         [255, 255, 255],\n",
       "         [255, 255, 255],\n",
       "         ...,\n",
       "         [255, 255, 255],\n",
       "         [255, 255, 255],\n",
       "         [255, 255, 255]],\n",
       "\n",
       "        [[255, 255, 255],\n",
       "         [255, 255, 255],\n",
       "         [255, 255, 255],\n",
       "         ...,\n",
       "         [255, 255, 255],\n",
       "         [254, 254, 254],\n",
       "         [255, 255, 255]],\n",
       "\n",
       "        [[255, 255, 255],\n",
       "         [255, 255, 255],\n",
       "         [255, 255, 255],\n",
       "         ...,\n",
       "         [254, 254, 254],\n",
       "         [255, 255, 255],\n",
       "         [255, 255, 255]],\n",
       "\n",
       "        ...,\n",
       "\n",
       "        [[254, 254, 254],\n",
       "         [253, 253, 253],\n",
       "         [253, 253, 253],\n",
       "         ...,\n",
       "         [254, 254, 254],\n",
       "         [255, 255, 255],\n",
       "         [255, 255, 255]],\n",
       "\n",
       "        [[254, 254, 254],\n",
       "         [253, 253, 253],\n",
       "         [254, 254, 254],\n",
       "         ...,\n",
       "         [253, 253, 253],\n",
       "         [255, 255, 255],\n",
       "         [255, 255, 255]],\n",
       "\n",
       "        [[255, 255, 255],\n",
       "         [254, 254, 254],\n",
       "         [254, 254, 254],\n",
       "         ...,\n",
       "         [254, 254, 254],\n",
       "         [255, 255, 255],\n",
       "         [255, 255, 255]]],\n",
       "\n",
       "\n",
       "       [[[252, 252, 252],\n",
       "         [254, 254, 254],\n",
       "         [208, 208, 208],\n",
       "         ...,\n",
       "         [210, 210, 210],\n",
       "         [194, 194, 194],\n",
       "         [226, 226, 226]],\n",
       "\n",
       "        [[254, 254, 254],\n",
       "         [253, 253, 253],\n",
       "         [251, 251, 251],\n",
       "         ...,\n",
       "         [250, 250, 250],\n",
       "         [253, 253, 253],\n",
       "         [253, 253, 253]],\n",
       "\n",
       "        [[254, 254, 254],\n",
       "         [255, 255, 255],\n",
       "         [255, 255, 255],\n",
       "         ...,\n",
       "         [255, 255, 255],\n",
       "         [255, 255, 255],\n",
       "         [255, 255, 255]],\n",
       "\n",
       "        ...,\n",
       "\n",
       "        [[255, 255, 255],\n",
       "         [255, 255, 255],\n",
       "         [255, 255, 255],\n",
       "         ...,\n",
       "         [255, 255, 255],\n",
       "         [255, 255, 255],\n",
       "         [255, 255, 255]],\n",
       "\n",
       "        [[255, 255, 255],\n",
       "         [255, 255, 255],\n",
       "         [255, 255, 255],\n",
       "         ...,\n",
       "         [255, 255, 255],\n",
       "         [255, 255, 255],\n",
       "         [255, 255, 255]],\n",
       "\n",
       "        [[255, 255, 255],\n",
       "         [255, 255, 255],\n",
       "         [255, 255, 255],\n",
       "         ...,\n",
       "         [255, 255, 255],\n",
       "         [255, 255, 255],\n",
       "         [255, 255, 255]]]], dtype=uint8)"
      ]
     },
     "execution_count": 6,
     "metadata": {},
     "output_type": "execute_result"
    }
   ],
   "source": [
    "x_train"
   ]
  },
  {
   "cell_type": "code",
   "execution_count": 7,
   "metadata": {
    "colab": {
     "base_uri": "https://localhost:8080/",
     "height": 350
    },
    "id": "Tw5BmhNTOAfm",
    "outputId": "dcfdcc1e-c529-4ffa-cf4e-163248d380b2"
   },
   "outputs": [
    {
     "data": {
      "image/png": "[encoded data removed]",
      "text/plain": [
       "<Figure size 720x360 with 1 Axes>"
      ]
     },
     "metadata": {
      "needs_background": "light"
     },
     "output_type": "display_data"
    }
   ],
   "source": [
    "numOfSample=[]\n",
    "\n",
    "for x in range(0,numOfClasses):\n",
    "\tnumOfSample.append(len(np.where(y_train==x)[0]))\n",
    "\n",
    "\n",
    "plt.figure(figsize=(10,5))\n",
    "plt.bar(range(0, numOfClasses),numOfSample)\n",
    "plt.title(\"Bar Plot of Classes & Images\")\n",
    "plt.xlabel(\"No Of Classes\")\n",
    "plt.ylabel(\"No of Images\")\n",
    "plt.show()"
   ]
  },
  {
   "cell_type": "code",
   "execution_count": 8,
   "metadata": {
    "colab": {
     "base_uri": "https://localhost:8080/"
    },
    "id": "Ii2nHA7oUrg5",
    "outputId": "4a56ec8e-d5fb-4170-8fc6-64c7a8d6d2ac"
   },
   "outputs": [
    {
     "name": "stdout",
     "output_type": "stream",
     "text": [
      "Total number of training images:  9643\n",
      "total number of test images: 3014\n",
      "total number of validition images: 2411\n",
      "total number in the datasets images: 15068\n"
     ]
    }
   ],
   "source": [
    "import pandas as pd  \n",
    "\n",
    "print(\"Total number of training images: \",len(x_train))\n",
    "\n",
    "# make train_image_names as serie object\n",
    "#x_train = pd.Series(x_train)\n",
    "\n",
    "print(\"total number of test images:\",len(x_test))\n",
    "print(\"total number of validition images:\",len(x_validation))\n",
    "\n",
    "print(\"total number in the datasets images:\",len(images))"
   ]
  },
  {
   "cell_type": "code",
   "execution_count": 9,
   "metadata": {
    "id": "nRU1Uy_1OAfn"
   },
   "outputs": [],
   "source": [
    "def preprocessing(img):\n",
    "\t# img=np.astype(\"uint8\")\n",
    "\timg=cv2.cvtColor(img, cv2.COLOR_BGR2GRAY)\n",
    "\t_, img = cv2.threshold(img, 170, 255, cv2.THRESH_BINARY)\n",
    "\timg=cv2.equalizeHist(img)\n",
    "\timg=img/255\n",
    "\treturn img\n",
    "\n",
    "\n",
    "x_train=np.array(list(map(preprocessing, x_train)))\n",
    "x_test=np.array(list(map(preprocessing, x_test)))\n",
    "x_validation=np.array(list(map(preprocessing, x_validation)))"
   ]
  },
  {
   "cell_type": "code",
   "execution_count": 10,
   "metadata": {
    "colab": {
     "base_uri": "https://localhost:8080/",
     "height": 916
    },
    "id": "PPQWLfGreZU3",
    "outputId": "a864aba1-e6db-4d77-c148-c0a2fd190640"
   },
   "outputs": [
    {
     "data": {
      "image/png": "[encoded data removed]",
      "text/plain": [
       "<Figure size 1152x1152 with 16 Axes>"
      ]
     },
     "metadata": {
      "needs_background": "light"
     },
     "output_type": "display_data"
    }
   ],
   "source": [
    "\n",
    "def plotImagesAndLabels():\n",
    "    t_x, t_y = x_train, y_train\n",
    "    fig, m_axs = plt.subplots(4, 4, figsize = (16, 16))\n",
    "    for (c_x, c_y, c_ax) in zip(t_x, t_y, m_axs.flatten()):\n",
    "        c_ax.imshow(c_x[:,:], cmap = 'bone', vmin = -1.5, vmax = 1.5)\n",
    "        c_ax.set_title(', '+str(c_y))\n",
    "        c_ax.axis('off')\n",
    "plotImagesAndLabels()"
   ]
  },
  {
   "cell_type": "code",
   "execution_count": null,
   "metadata": {
    "id": "K_62YcMBf0f0"
   },
   "outputs": [],
   "source": []
  },
  {
   "cell_type": "code",
   "execution_count": 11,
   "metadata": {
    "id": "wjz8nufbOAfp"
   },
   "outputs": [],
   "source": [
    "\n",
    "x_train=x_train.reshape(x_train.shape[0], x_train.shape[1], x_train.shape[2],1)\n",
    "x_test=x_test.reshape(x_test.shape[0], x_test.shape[1], x_test.shape[2],1)\n",
    "x_validation=x_validation.reshape(x_validation.shape[0], x_validation.shape[1], x_validation.shape[2],1)\n",
    "\n",
    "\n",
    "dataGen=ImageDataGenerator(\n",
    "\twidth_shift_range=0.1,\n",
    "\theight_shift_range=0.1,\n",
    "\tzoom_range=0.2,\n",
    "\tshear_range=0.1,\n",
    "\trotation_range=10)\n",
    "\n",
    "dataGen.fit(x_train)\n",
    "\n",
    "y_train=to_categorical(y_train, numOfClasses)\n",
    "y_test=to_categorical(y_test, numOfClasses)\n",
    "y_validation=to_categorical(y_validation, numOfClasses)"
   ]
  },
  {
   "cell_type": "code",
   "execution_count": 12,
   "metadata": {
    "id": "xj7yGn78YeGT"
   },
   "outputs": [],
   "source": [
    "def model():\n",
    "  # building a linear stack of layers with the sequential model\n",
    "  model = Sequential()\n",
    "\n",
    "  # convolutional layer\n",
    "  model.add(Conv2D(32, kernel_size=(5,5), padding='same', activation='relu', input_shape=(28, 28, 1)))\n",
    "\n",
    "  # convolutional layer 2\n",
    "  model.add(Conv2D(32, kernel_size=(5,5), padding='same', activation='relu'))\n",
    "  model.add(MaxPool2D(pool_size=(2,2)))\n",
    "  model.add(Dropout(0.5))\n",
    "  #convolution layer 3\n",
    "  model.add(Conv2D(64, kernel_size=(3,3), padding='same', activation='relu'))\n",
    "  model.add(Conv2D(64, kernel_size=(3,3), padding='same', activation='relu'))\n",
    "  model.add(MaxPool2D(pool_size=(2,2)))\n",
    "  model.add(Dropout(0.5))\n",
    "\n",
    "  # flatten output of conv\n",
    "  model.add(Flatten())\n",
    "\n",
    "  # hidden layer\n",
    "  model.add(Dense(256, activation='relu'))\n",
    "  model.add(Dropout(0.25))\n",
    "  # output layer\n",
    "  model.add(Dense(10, activation='softmax'))\n",
    "  #model.compile(Adam(lr=0.001),loss='categorical_crossentropy',metrics=['accuracy'])\n",
    "  model.compile(RMSprop(lr=0.001),loss='categorical_crossentropy',metrics=['accuracy'])\n",
    "  return model\n",
    "\n",
    "model = model()"
   ]
  },
  {
   "cell_type": "code",
   "execution_count": 13,
   "metadata": {
    "colab": {
     "base_uri": "https://localhost:8080/"
    },
    "id": "rU34ic3bOAfs",
    "outputId": "139d03bc-aa6c-4b8d-94e9-b75ad9eed406"
   },
   "outputs": [
    {
     "name": "stdout",
     "output_type": "stream",
     "text": [
      "Epoch 1/50\n",
      "112/112 [==============================] - 50s 437ms/step - loss: 1.5688 - accuracy: 0.4611 - val_loss: 0.6652 - val_accuracy: 0.7951\n",
      "Epoch 2/50\n",
      "112/112 [==============================] - 49s 441ms/step - loss: 0.7717 - accuracy: 0.7422 - val_loss: 0.4695 - val_accuracy: 0.8449\n",
      "Epoch 3/50\n",
      "112/112 [==============================] - 44s 390ms/step - loss: 0.6055 - accuracy: 0.7953 - val_loss: 0.3545 - val_accuracy: 0.8868\n",
      "Epoch 4/50\n",
      "112/112 [==============================] - 42s 378ms/step - loss: 0.5196 - accuracy: 0.8260 - val_loss: 0.3051 - val_accuracy: 0.9050\n",
      "Epoch 5/50\n",
      "112/112 [==============================] - 43s 382ms/step - loss: 0.4602 - accuracy: 0.8450 - val_loss: 0.2814 - val_accuracy: 0.9017\n",
      "Epoch 6/50\n",
      "112/112 [==============================] - 42s 379ms/step - loss: 0.4112 - accuracy: 0.8636 - val_loss: 0.3381 - val_accuracy: 0.8814\n",
      "Epoch 7/50\n",
      "112/112 [==============================] - 43s 385ms/step - loss: 0.3752 - accuracy: 0.8775 - val_loss: 0.2054 - val_accuracy: 0.9320\n",
      "Epoch 8/50\n",
      "112/112 [==============================] - 48s 426ms/step - loss: 0.3452 - accuracy: 0.8855 - val_loss: 0.1704 - val_accuracy: 0.9457\n",
      "Epoch 9/50\n",
      "112/112 [==============================] - 44s 392ms/step - loss: 0.3259 - accuracy: 0.8914 - val_loss: 0.1730 - val_accuracy: 0.9403\n",
      "Epoch 10/50\n",
      "112/112 [==============================] - 43s 381ms/step - loss: 0.3037 - accuracy: 0.8978 - val_loss: 0.1436 - val_accuracy: 0.9552\n",
      "Epoch 11/50\n",
      "112/112 [==============================] - 46s 408ms/step - loss: 0.2874 - accuracy: 0.9093 - val_loss: 0.1412 - val_accuracy: 0.9544\n",
      "Epoch 12/50\n",
      "112/112 [==============================] - 43s 388ms/step - loss: 0.2745 - accuracy: 0.9122 - val_loss: 0.1238 - val_accuracy: 0.9623\n",
      "Epoch 13/50\n",
      "112/112 [==============================] - 43s 388ms/step - loss: 0.2568 - accuracy: 0.9157 - val_loss: 0.1155 - val_accuracy: 0.9618\n",
      "Epoch 14/50\n",
      "112/112 [==============================] - 46s 414ms/step - loss: 0.2461 - accuracy: 0.9166 - val_loss: 0.1120 - val_accuracy: 0.9647\n",
      "Epoch 15/50\n",
      "112/112 [==============================] - 47s 423ms/step - loss: 0.2381 - accuracy: 0.9243 - val_loss: 0.1150 - val_accuracy: 0.9635\n",
      "Epoch 16/50\n",
      "112/112 [==============================] - 49s 439ms/step - loss: 0.2206 - accuracy: 0.9288 - val_loss: 0.1057 - val_accuracy: 0.9647\n",
      "Epoch 17/50\n",
      "112/112 [==============================] - 44s 393ms/step - loss: 0.2122 - accuracy: 0.9301 - val_loss: 0.1091 - val_accuracy: 0.9639\n",
      "Epoch 18/50\n",
      "112/112 [==============================] - 42s 377ms/step - loss: 0.2096 - accuracy: 0.9318 - val_loss: 0.1107 - val_accuracy: 0.9606\n",
      "Epoch 19/50\n",
      "112/112 [==============================] - 42s 379ms/step - loss: 0.2031 - accuracy: 0.9346 - val_loss: 0.0771 - val_accuracy: 0.9722\n",
      "Epoch 20/50\n",
      "112/112 [==============================] - 48s 429ms/step - loss: 0.1914 - accuracy: 0.9394 - val_loss: 0.1032 - val_accuracy: 0.9652\n",
      "Epoch 21/50\n",
      "112/112 [==============================] - 43s 385ms/step - loss: 0.1916 - accuracy: 0.9385 - val_loss: 0.0988 - val_accuracy: 0.9689\n",
      "Epoch 22/50\n",
      "112/112 [==============================] - 55s 496ms/step - loss: 0.1858 - accuracy: 0.9403 - val_loss: 0.0835 - val_accuracy: 0.9759\n",
      "Epoch 23/50\n",
      "112/112 [==============================] - 54s 482ms/step - loss: 0.1844 - accuracy: 0.9397 - val_loss: 0.0779 - val_accuracy: 0.9751\n",
      "Epoch 24/50\n",
      "112/112 [==============================] - 49s 441ms/step - loss: 0.1844 - accuracy: 0.9428 - val_loss: 0.0833 - val_accuracy: 0.9735\n",
      "Epoch 25/50\n",
      "112/112 [==============================] - 50s 448ms/step - loss: 0.1815 - accuracy: 0.9415 - val_loss: 0.0777 - val_accuracy: 0.9788\n",
      "Epoch 26/50\n",
      "112/112 [==============================] - 44s 394ms/step - loss: 0.1750 - accuracy: 0.9463 - val_loss: 0.0784 - val_accuracy: 0.9772\n",
      "Epoch 27/50\n",
      "112/112 [==============================] - 45s 397ms/step - loss: 0.1769 - accuracy: 0.9442 - val_loss: 0.0839 - val_accuracy: 0.9730\n",
      "Epoch 28/50\n",
      "112/112 [==============================] - 53s 471ms/step - loss: 0.1716 - accuracy: 0.9439 - val_loss: 0.0596 - val_accuracy: 0.9809\n",
      "Epoch 29/50\n",
      "112/112 [==============================] - 51s 456ms/step - loss: 0.1703 - accuracy: 0.9463 - val_loss: 0.0726 - val_accuracy: 0.9776\n",
      "Epoch 30/50\n",
      "112/112 [==============================] - 49s 442ms/step - loss: 0.1713 - accuracy: 0.9446 - val_loss: 0.0824 - val_accuracy: 0.9747\n",
      "Epoch 31/50\n",
      "112/112 [==============================] - 49s 440ms/step - loss: 0.1706 - accuracy: 0.9460 - val_loss: 0.0673 - val_accuracy: 0.9801\n",
      "Epoch 32/50\n",
      "112/112 [==============================] - 49s 435ms/step - loss: 0.1628 - accuracy: 0.9458 - val_loss: 0.0600 - val_accuracy: 0.9801\n",
      "Epoch 33/50\n",
      "112/112 [==============================] - 53s 471ms/step - loss: 0.1597 - accuracy: 0.9506 - val_loss: 0.0994 - val_accuracy: 0.9672\n",
      "Epoch 34/50\n",
      "112/112 [==============================] - 51s 458ms/step - loss: 0.1704 - accuracy: 0.9489 - val_loss: 0.0556 - val_accuracy: 0.9855\n",
      "Epoch 35/50\n",
      "112/112 [==============================] - 51s 451ms/step - loss: 0.1425 - accuracy: 0.9546 - val_loss: 0.0621 - val_accuracy: 0.9813\n",
      "Epoch 36/50\n",
      "112/112 [==============================] - 47s 422ms/step - loss: 0.1558 - accuracy: 0.9517 - val_loss: 0.0572 - val_accuracy: 0.9842\n",
      "Epoch 37/50\n",
      "112/112 [==============================] - 49s 433ms/step - loss: 0.1609 - accuracy: 0.9488 - val_loss: 0.0575 - val_accuracy: 0.9834\n",
      "Epoch 38/50\n",
      "112/112 [==============================] - 49s 438ms/step - loss: 0.1525 - accuracy: 0.9523 - val_loss: 0.0593 - val_accuracy: 0.9834\n",
      "Epoch 39/50\n",
      "112/112 [==============================] - 47s 421ms/step - loss: 0.1419 - accuracy: 0.9530 - val_loss: 0.0702 - val_accuracy: 0.9788\n",
      "Epoch 40/50\n",
      "112/112 [==============================] - 49s 434ms/step - loss: 0.1606 - accuracy: 0.9489 - val_loss: 0.0600 - val_accuracy: 0.9788\n",
      "Epoch 41/50\n",
      "112/112 [==============================] - 49s 436ms/step - loss: 0.1666 - accuracy: 0.9502 - val_loss: 0.0606 - val_accuracy: 0.9805\n",
      "Epoch 42/50\n",
      "112/112 [==============================] - 47s 421ms/step - loss: 0.1511 - accuracy: 0.9533 - val_loss: 0.0602 - val_accuracy: 0.9822\n",
      "Epoch 43/50\n",
      "112/112 [==============================] - 48s 426ms/step - loss: 0.1544 - accuracy: 0.9497 - val_loss: 0.0657 - val_accuracy: 0.9809\n",
      "Epoch 44/50\n",
      "112/112 [==============================] - 45s 404ms/step - loss: 0.1489 - accuracy: 0.9527 - val_loss: 0.0547 - val_accuracy: 0.9826\n",
      "Epoch 45/50\n",
      "112/112 [==============================] - 46s 408ms/step - loss: 0.1598 - accuracy: 0.9518 - val_loss: 0.0635 - val_accuracy: 0.9776\n",
      "Epoch 46/50\n",
      "112/112 [==============================] - 43s 385ms/step - loss: 0.1449 - accuracy: 0.9543 - val_loss: 0.0797 - val_accuracy: 0.9743\n",
      "Epoch 47/50\n",
      "112/112 [==============================] - 43s 384ms/step - loss: 0.1406 - accuracy: 0.9587 - val_loss: 0.0635 - val_accuracy: 0.9809\n",
      "Epoch 48/50\n",
      "112/112 [==============================] - 44s 397ms/step - loss: 0.1571 - accuracy: 0.9531 - val_loss: 0.0660 - val_accuracy: 0.9822\n",
      "Epoch 49/50\n",
      "112/112 [==============================] - 42s 376ms/step - loss: 0.1515 - accuracy: 0.9528 - val_loss: 0.0591 - val_accuracy: 0.9830\n",
      "Epoch 50/50\n",
      "112/112 [==============================] - 41s 363ms/step - loss: 0.1467 - accuracy: 0.9528 - val_loss: 0.0565 - val_accuracy: 0.9838\n"
     ]
    }
   ],
   "source": [
    "history=model.fit_generator(dataGen.flow(x_train, y_train,batch_size=86),\n",
    "\tsteps_per_epoch=len(x_train)//86,\n",
    "\tepochs=50,\n",
    "\tvalidation_data=(x_validation,y_validation),\n",
    "\tshuffle=1)\n",
    "\n",
    "model.save(\"MathNNet.h5\")"
   ]
  },
  {
   "cell_type": "code",
   "execution_count": 14,
   "metadata": {
    "colab": {
     "base_uri": "https://localhost:8080/",
     "height": 325
    },
    "id": "_s-QOx5-X1BH",
    "outputId": "5f8d1557-e493-4b42-e1ed-7dd2cb379480"
   },
   "outputs": [
    {
     "name": "stdout",
     "output_type": "stream",
     "text": [
      "(287, 28, 28, 1)\n"
     ]
    },
    {
     "data": {
      "image/png": "[encoded data removed]",
      "text/plain": [
       "<Figure size 432x288 with 2 Axes>"
      ]
     },
     "metadata": {
      "needs_background": "light"
     },
     "output_type": "display_data"
    },
    {
     "name": "stdout",
     "output_type": "stream",
     "text": [
      "0.9825783972125436\n"
     ]
    }
   ],
   "source": [
    "from sklearn.metrics import confusion_matrix\n",
    "\n",
    "check_class = 3\n",
    "class_x_test = []\n",
    "class_y_test = []\n",
    "temp = np.argmax(y_test,axis=1)\n",
    "for i, x in enumerate(temp):\n",
    "  if x == check_class:\n",
    "    for j, y in enumerate(x_test):\n",
    "      if j == i:\n",
    "        class_x_test.append(y)\n",
    "    class_y_test.append(check_class)\n",
    "\n",
    "class_x_test = np.asarray(class_x_test)\n",
    "# class wise accuracy\n",
    "print(class_x_test.shape)\n",
    "class_y_pred = model.predict(class_x_test)\n",
    "class_y_pred = np.argmax(class_y_pred,axis=1)\n",
    "\n",
    "labels = list(set(class_y_pred))\n",
    "cm = confusion_matrix(class_y_test, class_y_pred)\n",
    "fig = plt.figure()\n",
    "ax = fig.add_subplot(111)\n",
    "cax = ax.matshow(cm)\n",
    "plt.title('Confusion matrix of the classifier')\n",
    "fig.colorbar(cax)\n",
    "ax.set_xticklabels([''] + labels)\n",
    "ax.set_yticklabels([''] + labels)\n",
    "plt.xlabel('Predicted')\n",
    "plt.ylabel('True')\n",
    "plt.show()\n",
    "\n",
    "from sklearn.metrics import accuracy_score\n",
    "acc = accuracy_score(class_y_test, class_y_pred)\n",
    "print(acc)"
   ]
  },
  {
   "cell_type": "code",
   "execution_count": 15,
   "metadata": {
    "id": "3cpp-U8tOAft"
   },
   "outputs": [],
   "source": [
    "y_pred = model.predict(x_test)"
   ]
  },
  {
   "cell_type": "code",
   "execution_count": 16,
   "metadata": {
    "colab": {
     "base_uri": "https://localhost:8080/"
    },
    "id": "8BHvuQpqQp4K",
    "outputId": "342e773d-b82a-4109-970f-39c0ee982b26"
   },
   "outputs": [
    {
     "data": {
      "text/plain": [
       "array([8, 7, 2, ..., 7, 8, 6], dtype=int64)"
      ]
     },
     "execution_count": 16,
     "metadata": {},
     "output_type": "execute_result"
    }
   ],
   "source": [
    "y_pred_t = np.argmax(y_pred,axis=1)\n",
    "y_pred_t"
   ]
  },
  {
   "cell_type": "code",
   "execution_count": 17,
   "metadata": {
    "colab": {
     "base_uri": "https://localhost:8080/"
    },
    "id": "1V_Qpmz3QzD4",
    "outputId": "1a6b5bd9-5107-4738-ef46-885bf3ceaabf"
   },
   "outputs": [
    {
     "data": {
      "text/plain": [
       "array([8, 7, 2, ..., 7, 8, 6], dtype=int64)"
      ]
     },
     "execution_count": 17,
     "metadata": {},
     "output_type": "execute_result"
    }
   ],
   "source": [
    "y_test_t = np.argmax(y_test,axis=1)\n",
    "y_test_t"
   ]
  },
  {
   "cell_type": "code",
   "execution_count": 18,
   "metadata": {
    "id": "9NYBvmM1Qa52"
   },
   "outputs": [],
   "source": [
    "from sklearn.metrics import confusion_matrix\n",
    "conf_mat = confusion_matrix(y_test_t, y_pred_t)"
   ]
  },
  {
   "cell_type": "code",
   "execution_count": 19,
   "metadata": {
    "colab": {
     "base_uri": "https://localhost:8080/"
    },
    "id": "ZX2AdlHLROjm",
    "outputId": "15ab19ed-b6e3-4155-8d3c-b1c72fc846c0"
   },
   "outputs": [
    {
     "data": {
      "text/plain": [
       "array([[290,   1,   0,   0,   1,   0,   0,   0,   0,   0],\n",
       "       [  0, 313,   0,   0,   2,   0,   0,   0,   0,   5],\n",
       "       [  0,   1, 290,   0,   0,   0,   0,   1,   1,   0],\n",
       "       [  1,   0,   0, 282,   0,   0,   2,   0,   1,   1],\n",
       "       [  0,   0,   0,   0, 299,   4,   1,   0,   0,   0],\n",
       "       [  3,   0,   0,   1,   1, 296,   0,   0,   1,   0],\n",
       "       [  0,   0,   0,   3,   0,   5, 277,   1,   0,   1],\n",
       "       [  0,   0,   1,   0,   0,   0,   0, 315,   0,   1],\n",
       "       [  0,   0,   0,   0,   0,   0,   1,   0, 308,   1],\n",
       "       [  0,  11,   1,   0,   0,   0,   0,   0,   0, 290]], dtype=int64)"
      ]
     },
     "execution_count": 19,
     "metadata": {},
     "output_type": "execute_result"
    }
   ],
   "source": [
    "conf_mat"
   ]
  },
  {
   "cell_type": "code",
   "execution_count": 20,
   "metadata": {
    "colab": {
     "base_uri": "https://localhost:8080/"
    },
    "id": "ddIPvIlURoQl",
    "outputId": "616cb665-4803-4eff-ee30-ab6a29b7f298"
   },
   "outputs": [
    {
     "data": {
      "text/plain": [
       "0.9820836098208361"
      ]
     },
     "execution_count": 20,
     "metadata": {},
     "output_type": "execute_result"
    }
   ],
   "source": [
    "from sklearn.metrics import accuracy_score\n",
    "acc = accuracy_score(y_test_t,y_pred_t)\n",
    "acc"
   ]
  },
  {
   "cell_type": "code",
   "execution_count": 21,
   "metadata": {
    "colab": {
     "base_uri": "https://localhost:8080/",
     "height": 563
    },
    "id": "en548eP4cQ-g",
    "outputId": "37fb9f3d-7abc-4ac0-b4cb-2ef7b7e5c2e2"
   },
   "outputs": [
    {
     "data": {
      "text/plain": [
       "Text(0.5, 1.0, 'Training and validation loss')"
      ]
     },
     "execution_count": 21,
     "metadata": {},
     "output_type": "execute_result"
    },
    {
     "data": {
      "image/png": "[encoded data removed]",
      "text/plain": [
       "<Figure size 432x288 with 1 Axes>"
      ]
     },
     "metadata": {
      "needs_background": "light"
     },
     "output_type": "display_data"
    },
    {
     "data": {
      "image/png": "[encoded data removed]",
      "text/plain": [
       "<Figure size 432x288 with 1 Axes>"
      ]
     },
     "metadata": {
      "needs_background": "light"
     },
     "output_type": "display_data"
    }
   ],
   "source": [
    "import matplotlib.pyplot as plt\n",
    "# Retrieve a list of accuracy results on training and validation data\n",
    "# sets for each training epoch\n",
    "acc = history.history['accuracy']\n",
    "val_acc = history.history['val_accuracy']\n",
    "\n",
    "# Retrieve a list of list results on training and validation data\n",
    "# sets for each training epoch\n",
    "loss = history.history['loss']\n",
    "val_loss = history.history['val_loss']\n",
    "\n",
    "# Get number of epochs\n",
    "epochs = range(len(acc))\n",
    "\n",
    "# Plot training and validation accuracy per epoch\n",
    "plt.plot(epochs, acc, label = 'acc')\n",
    "plt.plot(epochs, val_acc , label = 'Val_acc')\n",
    "plt.legend()\n",
    "plt.title('Training and validation accuracy')\n",
    "\n",
    "plt.figure()\n",
    "\n",
    "# Plot training and validation loss per epoch\n",
    "plt.plot(epochs, loss, label = 'loss')\n",
    "plt.plot(epochs, val_loss, label = 'val_loss')\n",
    "plt.legend()\n",
    "plt.title('Training and validation loss')"
   ]
  },
  {
   "cell_type": "code",
   "execution_count": null,
   "metadata": {
    "id": "4VAMk6IuCK_4"
   },
   "outputs": [],
   "source": []
  }
 ],
 "metadata": {
  "accelerator": "GPU",
  "colab": {
   "collapsed_sections": [],
   "name": "Mathnet_Bangla_Digit.ipynb",
   "provenance": []
  },
  "kernelspec": {
   "display_name": "Python 3",
   "language": "python",
   "name": "python3"
  },
  "language_info": {
   "codemirror_mode": {
    "name": "ipython",
    "version": 3
   },
   "file_extension": ".py",
   "mimetype": "text/x-python",
   "name": "python",
   "nbconvert_exporter": "python",
   "pygments_lexer": "ipython3",
   "version": "3.8.3"
  }
 },
 "nbformat": 4,
 "nbformat_minor": 5
}
