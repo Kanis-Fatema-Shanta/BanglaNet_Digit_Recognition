{
 "cells": [
  {
   "cell_type": "code",
   "execution_count": null,
   "metadata": {
    "colab": {
     "base_uri": "https://localhost:8080/"
    },
    "id": "617Gof3fNiWu",
    "outputId": "cb9b31b7-7ea7-40fd-e68b-25f953848fde"
   },
   "outputs": [],
   "source": []
  },
  {
   "cell_type": "code",
   "execution_count": null,
   "metadata": {
    "id": "8sktaq-gzi2S"
   },
   "outputs": [],
   "source": []
  },
  {
   "cell_type": "code",
   "execution_count": 1,
   "metadata": {
    "colab": {
     "base_uri": "https://localhost:8080/"
    },
    "id": "SMWRRJ-UOAfi",
    "outputId": "d383fe34-4a50-4138-dc04-64469524231a"
   },
   "outputs": [
    {
     "name": "stdout",
     "output_type": "stream",
     "text": [
      "2.7.0\n"
     ]
    }
   ],
   "source": [
    "import tensorflow as tf\n",
    "print(tf.__version__)"
   ]
  },
  {
   "cell_type": "code",
   "execution_count": 2,
   "metadata": {
    "id": "8lAMc9KVOAfj"
   },
   "outputs": [],
   "source": [
    "import warnings\n",
    "warnings.filterwarnings('ignore')\n",
    "import cv2\n",
    "import numpy as np\n",
    "import os\n",
    "import matplotlib.pyplot as plt\n",
    "from sklearn.model_selection import train_test_split\n",
    "from tensorflow import keras \n",
    "from tensorflow.keras.preprocessing.image import ImageDataGenerator\n",
    "from keras.utils.np_utils import to_categorical\n",
    "from keras.models import Sequential\n",
    "from keras.layers import Conv2D, Dense, MaxPooling2D, Activation, Dropout, Flatten, MaxPool2D\n",
    "#from tensorflow.keras.optimizers import Adam\n",
    "from tensorflow.keras.optimizers import RMSprop\n",
    "\n",
    "path='./Dataset/Numbers'\n",
    "images=[]\n",
    "classNo=[]\n",
    "testRatio=0.2\n",
    "valRatio=0.2\n",
    "imgDimension=(28,28,3)"
   ]
  },
  {
   "cell_type": "code",
   "execution_count": 3,
   "metadata": {
    "colab": {
     "base_uri": "https://localhost:8080/"
    },
    "id": "JV1pfwXAOAfk",
    "outputId": "85f10205-a2c4-4ada-cf97-699fd22cc93b"
   },
   "outputs": [
    {
     "name": "stdout",
     "output_type": "stream",
     "text": [
      "Importing Classes..........\n",
      "0\n",
      "1\n",
      "2\n",
      "3\n",
      "4\n",
      "5\n",
      "6\n",
      "7\n",
      "8\n",
      "9\n"
     ]
    }
   ],
   "source": [
    "myList=os.listdir(path)\n",
    "\n",
    "numOfClasses=len(myList)\n",
    "\n",
    "print(\"Importing Classes..........\")\n",
    "for x in range(0, numOfClasses):\n",
    "    myPicList=os.listdir(path+\"/\"+str(x))\n",
    "    for y in myPicList:\n",
    "        try:\n",
    "            curImg=cv2.imread(path+\"/\"+str(x)+\"/\"+y)\n",
    "            curImg=cv2.resize(curImg,(imgDimension[0],imgDimension[1]))\n",
    "            images.append(curImg)\n",
    "            classNo.append(x)\n",
    "        except:\n",
    "            pass\n",
    "    print(x)\n",
    "\n",
    "images=np.array(images)\n",
    "classNo=np.array(classNo)"
   ]
  },
  {
   "cell_type": "code",
   "execution_count": 4,
   "metadata": {
    "id": "frJCTRrFOAfl"
   },
   "outputs": [],
   "source": [
    "x_train, x_test, y_train, y_test=train_test_split(images, classNo, test_size=testRatio)\n",
    "x_train, x_validation, y_train, y_validation=train_test_split(x_train, y_train, test_size=valRatio)"
   ]
  },
  {
   "cell_type": "code",
   "execution_count": 5,
   "metadata": {
    "colab": {
     "base_uri": "https://localhost:8080/"
    },
    "id": "C3uW2yv_e3FP",
    "outputId": "0b719083-594b-4a85-bfc2-a62d3d6bc7d1"
   },
   "outputs": [
    {
     "data": {
      "text/plain": [
       "array([2, 1, 1, ..., 1, 5, 0])"
      ]
     },
     "execution_count": 5,
     "metadata": {},
     "output_type": "execute_result"
    }
   ],
   "source": [
    "y_train"
   ]
  },
  {
   "cell_type": "code",
   "execution_count": 6,
   "metadata": {
    "colab": {
     "base_uri": "https://localhost:8080/"
    },
    "id": "CcmHsPNVesPu",
    "outputId": "9419e1eb-ca5d-42fb-d1ba-77c2ae5994a9"
   },
   "outputs": [
    {
     "data": {
      "text/plain": [
       "array([[[[255, 255, 255],\n",
       "         [255, 255, 255],\n",
       "         [255, 255, 255],\n",
       "         ...,\n",
       "         [255, 255, 255],\n",
       "         [255, 255, 255],\n",
       "         [255, 255, 255]],\n",
       "\n",
       "        [[255, 255, 255],\n",
       "         [255, 255, 255],\n",
       "         [255, 255, 255],\n",
       "         ...,\n",
       "         [255, 255, 255],\n",
       "         [255, 255, 255],\n",
       "         [255, 255, 255]],\n",
       "\n",
       "        [[255, 255, 255],\n",
       "         [255, 255, 255],\n",
       "         [255, 255, 255],\n",
       "         ...,\n",
       "         [255, 255, 255],\n",
       "         [255, 255, 255],\n",
       "         [255, 255, 255]],\n",
       "\n",
       "        ...,\n",
       "\n",
       "        [[252, 252, 252],\n",
       "         [253, 253, 253],\n",
       "         [230, 230, 230],\n",
       "         ...,\n",
       "         [255, 255, 255],\n",
       "         [255, 255, 255],\n",
       "         [255, 255, 255]],\n",
       "\n",
       "        [[254, 254, 254],\n",
       "         [253, 253, 253],\n",
       "         [171, 171, 171],\n",
       "         ...,\n",
       "         [255, 255, 255],\n",
       "         [255, 255, 255],\n",
       "         [255, 255, 255]],\n",
       "\n",
       "        [[254, 254, 254],\n",
       "         [252, 252, 252],\n",
       "         [240, 240, 240],\n",
       "         ...,\n",
       "         [255, 255, 255],\n",
       "         [255, 255, 255],\n",
       "         [255, 255, 255]]],\n",
       "\n",
       "\n",
       "       [[[255, 255, 255],\n",
       "         [255, 255, 255],\n",
       "         [255, 255, 255],\n",
       "         ...,\n",
       "         [255, 255, 255],\n",
       "         [255, 255, 255],\n",
       "         [255, 255, 255]],\n",
       "\n",
       "        [[254, 254, 254],\n",
       "         [255, 255, 255],\n",
       "         [255, 255, 255],\n",
       "         ...,\n",
       "         [252, 252, 252],\n",
       "         [253, 253, 253],\n",
       "         [254, 254, 254]],\n",
       "\n",
       "        [[254, 254, 254],\n",
       "         [255, 255, 255],\n",
       "         [255, 255, 255],\n",
       "         ...,\n",
       "         [146, 146, 146],\n",
       "         [251, 251, 251],\n",
       "         [254, 254, 254]],\n",
       "\n",
       "        ...,\n",
       "\n",
       "        [[254, 254, 254],\n",
       "         [255, 255, 255],\n",
       "         [255, 255, 255],\n",
       "         ...,\n",
       "         [255, 255, 255],\n",
       "         [255, 255, 255],\n",
       "         [255, 255, 255]],\n",
       "\n",
       "        [[254, 254, 254],\n",
       "         [254, 254, 254],\n",
       "         [255, 255, 255],\n",
       "         ...,\n",
       "         [255, 255, 255],\n",
       "         [255, 255, 255],\n",
       "         [255, 255, 255]],\n",
       "\n",
       "        [[253, 253, 253],\n",
       "         [253, 253, 253],\n",
       "         [253, 253, 253],\n",
       "         ...,\n",
       "         [253, 253, 253],\n",
       "         [254, 254, 254],\n",
       "         [254, 254, 254]]],\n",
       "\n",
       "\n",
       "       [[[254, 254, 254],\n",
       "         [255, 255, 255],\n",
       "         [252, 252, 252],\n",
       "         ...,\n",
       "         [255, 255, 255],\n",
       "         [255, 255, 255],\n",
       "         [255, 255, 255]],\n",
       "\n",
       "        [[255, 255, 255],\n",
       "         [253, 253, 253],\n",
       "         [253, 253, 253],\n",
       "         ...,\n",
       "         [254, 254, 254],\n",
       "         [255, 255, 255],\n",
       "         [255, 255, 255]],\n",
       "\n",
       "        [[254, 254, 254],\n",
       "         [253, 253, 253],\n",
       "         [253, 253, 253],\n",
       "         ...,\n",
       "         [255, 255, 255],\n",
       "         [255, 255, 255],\n",
       "         [255, 255, 255]],\n",
       "\n",
       "        ...,\n",
       "\n",
       "        [[254, 254, 254],\n",
       "         [255, 255, 255],\n",
       "         [254, 254, 254],\n",
       "         ...,\n",
       "         [254, 254, 254],\n",
       "         [254, 254, 254],\n",
       "         [254, 254, 254]],\n",
       "\n",
       "        [[255, 255, 255],\n",
       "         [255, 255, 255],\n",
       "         [255, 255, 255],\n",
       "         ...,\n",
       "         [252, 252, 252],\n",
       "         [254, 254, 254],\n",
       "         [254, 254, 254]],\n",
       "\n",
       "        [[255, 255, 255],\n",
       "         [255, 255, 255],\n",
       "         [254, 254, 254],\n",
       "         ...,\n",
       "         [253, 253, 253],\n",
       "         [254, 254, 254],\n",
       "         [254, 254, 254]]],\n",
       "\n",
       "\n",
       "       ...,\n",
       "\n",
       "\n",
       "       [[[221, 221, 221],\n",
       "         [213, 213, 213],\n",
       "         [193, 193, 193],\n",
       "         ...,\n",
       "         [180, 180, 180],\n",
       "         [234, 234, 234],\n",
       "         [216, 216, 216]],\n",
       "\n",
       "        [[252, 252, 252],\n",
       "         [254, 254, 254],\n",
       "         [253, 253, 253],\n",
       "         ...,\n",
       "         [254, 254, 254],\n",
       "         [254, 254, 254],\n",
       "         [252, 252, 252]],\n",
       "\n",
       "        [[255, 255, 255],\n",
       "         [255, 255, 255],\n",
       "         [255, 255, 255],\n",
       "         ...,\n",
       "         [255, 255, 255],\n",
       "         [255, 255, 255],\n",
       "         [255, 255, 255]],\n",
       "\n",
       "        ...,\n",
       "\n",
       "        [[255, 255, 255],\n",
       "         [255, 255, 255],\n",
       "         [255, 255, 255],\n",
       "         ...,\n",
       "         [255, 255, 255],\n",
       "         [255, 255, 255],\n",
       "         [255, 255, 255]],\n",
       "\n",
       "        [[255, 255, 255],\n",
       "         [255, 255, 255],\n",
       "         [255, 255, 255],\n",
       "         ...,\n",
       "         [255, 255, 255],\n",
       "         [255, 255, 255],\n",
       "         [255, 255, 255]],\n",
       "\n",
       "        [[255, 255, 255],\n",
       "         [255, 255, 255],\n",
       "         [255, 255, 255],\n",
       "         ...,\n",
       "         [255, 255, 255],\n",
       "         [255, 255, 255],\n",
       "         [255, 255, 255]]],\n",
       "\n",
       "\n",
       "       [[[255, 255, 255],\n",
       "         [255, 255, 255],\n",
       "         [255, 255, 255],\n",
       "         ...,\n",
       "         [255, 255, 255],\n",
       "         [255, 255, 255],\n",
       "         [255, 255, 255]],\n",
       "\n",
       "        [[255, 255, 255],\n",
       "         [255, 255, 255],\n",
       "         [255, 255, 255],\n",
       "         ...,\n",
       "         [255, 255, 255],\n",
       "         [254, 254, 254],\n",
       "         [255, 255, 255]],\n",
       "\n",
       "        [[255, 255, 255],\n",
       "         [255, 255, 255],\n",
       "         [255, 255, 255],\n",
       "         ...,\n",
       "         [254, 254, 254],\n",
       "         [255, 255, 255],\n",
       "         [255, 255, 255]],\n",
       "\n",
       "        ...,\n",
       "\n",
       "        [[254, 254, 254],\n",
       "         [253, 253, 253],\n",
       "         [253, 253, 253],\n",
       "         ...,\n",
       "         [254, 254, 254],\n",
       "         [255, 255, 255],\n",
       "         [255, 255, 255]],\n",
       "\n",
       "        [[254, 254, 254],\n",
       "         [253, 253, 253],\n",
       "         [254, 254, 254],\n",
       "         ...,\n",
       "         [253, 253, 253],\n",
       "         [255, 255, 255],\n",
       "         [255, 255, 255]],\n",
       "\n",
       "        [[255, 255, 255],\n",
       "         [254, 254, 254],\n",
       "         [254, 254, 254],\n",
       "         ...,\n",
       "         [254, 254, 254],\n",
       "         [255, 255, 255],\n",
       "         [255, 255, 255]]],\n",
       "\n",
       "\n",
       "       [[[252, 252, 252],\n",
       "         [254, 254, 254],\n",
       "         [208, 208, 208],\n",
       "         ...,\n",
       "         [210, 210, 210],\n",
       "         [194, 194, 194],\n",
       "         [226, 226, 226]],\n",
       "\n",
       "        [[254, 254, 254],\n",
       "         [253, 253, 253],\n",
       "         [251, 251, 251],\n",
       "         ...,\n",
       "         [250, 250, 250],\n",
       "         [253, 253, 253],\n",
       "         [253, 253, 253]],\n",
       "\n",
       "        [[254, 254, 254],\n",
       "         [255, 255, 255],\n",
       "         [255, 255, 255],\n",
       "         ...,\n",
       "         [255, 255, 255],\n",
       "         [255, 255, 255],\n",
       "         [255, 255, 255]],\n",
       "\n",
       "        ...,\n",
       "\n",
       "        [[255, 255, 255],\n",
       "         [255, 255, 255],\n",
       "         [255, 255, 255],\n",
       "         ...,\n",
       "         [255, 255, 255],\n",
       "         [255, 255, 255],\n",
       "         [255, 255, 255]],\n",
       "\n",
       "        [[255, 255, 255],\n",
       "         [255, 255, 255],\n",
       "         [255, 255, 255],\n",
       "         ...,\n",
       "         [255, 255, 255],\n",
       "         [255, 255, 255],\n",
       "         [255, 255, 255]],\n",
       "\n",
       "        [[255, 255, 255],\n",
       "         [255, 255, 255],\n",
       "         [255, 255, 255],\n",
       "         ...,\n",
       "         [255, 255, 255],\n",
       "         [255, 255, 255],\n",
       "         [255, 255, 255]]]], dtype=uint8)"
      ]
     },
     "execution_count": 6,
     "metadata": {},
     "output_type": "execute_result"
    }
   ],
   "source": [
    "x_train"
   ]
  },
  {
   "cell_type": "code",
   "execution_count": 7,
   "metadata": {
    "colab": {
     "base_uri": "https://localhost:8080/",
     "height": 350
    },
    "id": "Tw5BmhNTOAfm",
    "outputId": "dcfdcc1e-c529-4ffa-cf4e-163248d380b2"
   },
   "outputs": [
    {
     "data": {
      "image/png": "[encoded data removed]",
      "text/plain": [
       "<Figure size 720x360 with 1 Axes>"
      ]
     },
     "metadata": {
      "needs_background": "light"
     },
     "output_type": "display_data"
    }
   ],
   "source": [
    "numOfSample=[]\n",
    "\n",
    "for x in range(0,numOfClasses):\n",
    "\tnumOfSample.append(len(np.where(y_train==x)[0]))\n",
    "\n",
    "\n",
    "plt.figure(figsize=(10,5))\n",
    "plt.bar(range(0, numOfClasses),numOfSample)\n",
    "plt.title(\"Bar Plot of Classes & Images\")\n",
    "plt.xlabel(\"No Of Classes\")\n",
    "plt.ylabel(\"No of Images\")\n",
    "plt.show()"
   ]
  },
  {
   "cell_type": "code",
   "execution_count": 8,
   "metadata": {
    "colab": {
     "base_uri": "https://localhost:8080/"
    },
    "id": "Ii2nHA7oUrg5",
    "outputId": "4a56ec8e-d5fb-4170-8fc6-64c7a8d6d2ac"
   },
   "outputs": [
    {
     "name": "stdout",
     "output_type": "stream",
     "text": [
      "Total number of training images:  9643\n",
      "total number of test images: 3014\n",
      "total number of validition images: 2411\n",
      "total number in the datasets images: 15068\n"
     ]
    }
   ],
   "source": [
    "import pandas as pd  \n",
    "\n",
    "print(\"Total number of training images: \",len(x_train))\n",
    "\n",
    "# make train_image_names as serie object\n",
    "#x_train = pd.Series(x_train)\n",
    "\n",
    "print(\"total number of test images:\",len(x_test))\n",
    "print(\"total number of validition images:\",len(x_validation))\n",
    "\n",
    "print(\"total number in the datasets images:\",len(images))"
   ]
  },
  {
   "cell_type": "code",
   "execution_count": null,
   "metadata": {
    "id": "nRU1Uy_1OAfn"
   },
   "outputs": [],
   "source": [
    "def preprocessing(img):\n",
    "\t# img=np.astype(\"uint8\")\n",
    "\timg=cv2.cvtColor(img, cv2.COLOR_BGR2GRAY)\n",
    "\t_, img = cv2.threshold(img, 170, 255, cv2.THRESH_BINARY)\n",
    "\timg=cv2.equalizeHist(img)\n",
    "\timg=img/255\n",
    "\treturn img\n",
    "\n",
    "\n",
    "x_train=np.array(list(map(preprocessing, x_train)))\n",
    "x_test=np.array(list(map(preprocessing, x_test)))\n",
    "x_validation=np.array(list(map(preprocessing, x_validation)))"
   ]
  },
  {
   "cell_type": "code",
   "execution_count": null,
   "metadata": {
    "colab": {
     "base_uri": "https://localhost:8080/",
     "height": 916
    },
    "id": "PPQWLfGreZU3",
    "outputId": "a864aba1-e6db-4d77-c148-c0a2fd190640"
   },
   "outputs": [
    {
     "data": {
      "image/png": "[encoded data removed]",
      "text/plain": [
       "<Figure size 1152x1152 with 16 Axes>"
      ]
     },
     "metadata": {
      "needs_background": "light"
     },
     "output_type": "display_data"
    }
   ],
   "source": [
    "\n",
    "def plotImagesAndLabels():\n",
    "    t_x, t_y = x_train, y_train\n",
    "    fig, m_axs = plt.subplots(4, 4, figsize = (16, 16))\n",
    "    for (c_x, c_y, c_ax) in zip(t_x, t_y, m_axs.flatten()):\n",
    "        c_ax.imshow(c_x[:,:], cmap = 'bone', vmin = -1.5, vmax = 1.5)\n",
    "        c_ax.set_title(', '+str(c_y))\n",
    "        c_ax.axis('off')\n",
    "plotImagesAndLabels()"
   ]
  },
  {
   "cell_type": "code",
   "execution_count": null,
   "metadata": {
    "id": "K_62YcMBf0f0"
   },
   "outputs": [],
   "source": []
  },
  {
   "cell_type": "code",
   "execution_count": null,
   "metadata": {
    "id": "wjz8nufbOAfp"
   },
   "outputs": [],
   "source": [
    "\n",
    "x_train=x_train.reshape(x_train.shape[0], x_train.shape[1], x_train.shape[2],1)\n",
    "x_test=x_test.reshape(x_test.shape[0], x_test.shape[1], x_test.shape[2],1)\n",
    "x_validation=x_validation.reshape(x_validation.shape[0], x_validation.shape[1], x_validation.shape[2],1)\n",
    "\n",
    "\n",
    "dataGen=ImageDataGenerator(\n",
    "\twidth_shift_range=0.1,\n",
    "\theight_shift_range=0.1,\n",
    "\tzoom_range=0.2,\n",
    "\tshear_range=0.1,\n",
    "\trotation_range=10)\n",
    "\n",
    "dataGen.fit(x_train)\n",
    "\n",
    "y_train=to_categorical(y_train, numOfClasses)\n",
    "y_test=to_categorical(y_test, numOfClasses)\n",
    "y_validation=to_categorical(y_validation, numOfClasses)"
   ]
  },
  {
   "cell_type": "code",
   "execution_count": null,
   "metadata": {
    "id": "xj7yGn78YeGT"
   },
   "outputs": [],
   "source": [
    "def model():\n",
    "  # building a linear stack of layers with the sequential model\n",
    "  model = Sequential()\n",
    "\n",
    "  # convolutional layer\n",
    "  model.add(Conv2D(32, kernel_size=(5,5), padding='same', activation='relu', input_shape=(28, 28, 1)))\n",
    "\n",
    "  # convolutional layer 2\n",
    "  model.add(Conv2D(32, kernel_size=(5,5), padding='same', activation='relu'))\n",
    "  model.add(MaxPool2D(pool_size=(2,2)))\n",
    "  model.add(Dropout(0.5))\n",
    "  #convolution layer 3\n",
    "  model.add(Conv2D(64, kernel_size=(3,3), padding='same', activation='relu'))\n",
    "  model.add(Conv2D(64, kernel_size=(3,3), padding='same', activation='relu'))\n",
    "  model.add(MaxPool2D(pool_size=(2,2)))\n",
    "  model.add(Dropout(0.5))\n",
    "\n",
    "  # flatten output of conv\n",
    "  model.add(Flatten())\n",
    "\n",
    "  # hidden layer\n",
    "  model.add(Dense(256, activation='relu'))\n",
    "  model.add(Dropout(0.25))\n",
    "  # output layer\n",
    "  model.add(Dense(10, activation='softmax'))\n",
    "  #model.compile(Adam(lr=0.001),loss='categorical_crossentropy',metrics=['accuracy'])\n",
    "  model.compile(RMSprop(lr=0.001),loss='categorical_crossentropy',metrics=['accuracy'])\n",
    "  return model\n",
    "\n",
    "model = model()"
   ]
  },
  {
   "cell_type": "code",
   "execution_count": null,
   "metadata": {
    "colab": {
     "base_uri": "https://localhost:8080/"
    },
    "id": "rU34ic3bOAfs",
    "outputId": "139d03bc-aa6c-4b8d-94e9-b75ad9eed406"
   },
   "outputs": [
    {
     "name": "stdout",
     "output_type": "stream",
     "text": [
      "Epoch 1/50\n",
      "112/112 [==============================] - 7s 55ms/step - loss: 1.4257 - accuracy: 0.4958 - val_loss: 0.6788 - val_accuracy: 0.7764\n",
      "Epoch 2/50\n",
      "112/112 [==============================] - 6s 53ms/step - loss: 0.7222 - accuracy: 0.7560 - val_loss: 0.3825 - val_accuracy: 0.8698\n",
      "Epoch 3/50\n",
      "112/112 [==============================] - 6s 51ms/step - loss: 0.5691 - accuracy: 0.8087 - val_loss: 0.3291 - val_accuracy: 0.8951\n",
      "Epoch 4/50\n",
      "112/112 [==============================] - 6s 51ms/step - loss: 0.4801 - accuracy: 0.8382 - val_loss: 0.3169 - val_accuracy: 0.8888\n",
      "Epoch 5/50\n",
      "112/112 [==============================] - 6s 50ms/step - loss: 0.4186 - accuracy: 0.8597 - val_loss: 0.2138 - val_accuracy: 0.9299\n",
      "Epoch 6/50\n",
      "112/112 [==============================] - 6s 50ms/step - loss: 0.3774 - accuracy: 0.8714 - val_loss: 0.2022 - val_accuracy: 0.9341\n",
      "Epoch 7/50\n",
      "112/112 [==============================] - 6s 52ms/step - loss: 0.3336 - accuracy: 0.8880 - val_loss: 0.1673 - val_accuracy: 0.9440\n",
      "Epoch 8/50\n",
      "112/112 [==============================] - 6s 52ms/step - loss: 0.3102 - accuracy: 0.8972 - val_loss: 0.1648 - val_accuracy: 0.9453\n",
      "Epoch 9/50\n",
      "112/112 [==============================] - 6s 51ms/step - loss: 0.3001 - accuracy: 0.8993 - val_loss: 0.1506 - val_accuracy: 0.9527\n",
      "Epoch 10/50\n",
      "112/112 [==============================] - 6s 52ms/step - loss: 0.2791 - accuracy: 0.9072 - val_loss: 0.1385 - val_accuracy: 0.9544\n",
      "Epoch 11/50\n",
      "112/112 [==============================] - 6s 50ms/step - loss: 0.2696 - accuracy: 0.9126 - val_loss: 0.1181 - val_accuracy: 0.9652\n",
      "Epoch 12/50\n",
      "112/112 [==============================] - 6s 53ms/step - loss: 0.2462 - accuracy: 0.9191 - val_loss: 0.1384 - val_accuracy: 0.9573\n",
      "Epoch 13/50\n",
      "112/112 [==============================] - 6s 51ms/step - loss: 0.2501 - accuracy: 0.9185 - val_loss: 0.1148 - val_accuracy: 0.9631\n",
      "Epoch 14/50\n",
      "112/112 [==============================] - 6s 49ms/step - loss: 0.2446 - accuracy: 0.9216 - val_loss: 0.1325 - val_accuracy: 0.9618\n",
      "Epoch 15/50\n",
      "112/112 [==============================] - 6s 53ms/step - loss: 0.2211 - accuracy: 0.9264 - val_loss: 0.0940 - val_accuracy: 0.9693\n",
      "Epoch 16/50\n",
      "112/112 [==============================] - 6s 52ms/step - loss: 0.2154 - accuracy: 0.9288 - val_loss: 0.1114 - val_accuracy: 0.9685\n",
      "Epoch 17/50\n",
      "112/112 [==============================] - 6s 51ms/step - loss: 0.2125 - accuracy: 0.9330 - val_loss: 0.0938 - val_accuracy: 0.9726\n",
      "Epoch 18/50\n",
      "112/112 [==============================] - 6s 51ms/step - loss: 0.2054 - accuracy: 0.9320 - val_loss: 0.0884 - val_accuracy: 0.9714\n",
      "Epoch 19/50\n",
      "112/112 [==============================] - 6s 54ms/step - loss: 0.1846 - accuracy: 0.9376 - val_loss: 0.0935 - val_accuracy: 0.9776\n",
      "Epoch 20/50\n",
      "112/112 [==============================] - 6s 50ms/step - loss: 0.2006 - accuracy: 0.9362 - val_loss: 0.0814 - val_accuracy: 0.9793\n",
      "Epoch 21/50\n",
      "112/112 [==============================] - 6s 53ms/step - loss: 0.1944 - accuracy: 0.9375 - val_loss: 0.0868 - val_accuracy: 0.9714\n",
      "Epoch 22/50\n",
      "112/112 [==============================] - 6s 50ms/step - loss: 0.1879 - accuracy: 0.9386 - val_loss: 0.0948 - val_accuracy: 0.9747\n",
      "Epoch 23/50\n",
      "112/112 [==============================] - 6s 53ms/step - loss: 0.1807 - accuracy: 0.9438 - val_loss: 0.0891 - val_accuracy: 0.9743\n",
      "Epoch 24/50\n",
      "112/112 [==============================] - 6s 50ms/step - loss: 0.1846 - accuracy: 0.9416 - val_loss: 0.0812 - val_accuracy: 0.9776\n",
      "Epoch 25/50\n",
      "112/112 [==============================] - 6s 53ms/step - loss: 0.1793 - accuracy: 0.9448 - val_loss: 0.0805 - val_accuracy: 0.9772\n",
      "Epoch 26/50\n",
      "112/112 [==============================] - 6s 52ms/step - loss: 0.1773 - accuracy: 0.9426 - val_loss: 0.0740 - val_accuracy: 0.9793\n",
      "Epoch 27/50\n",
      "112/112 [==============================] - 6s 53ms/step - loss: 0.1555 - accuracy: 0.9481 - val_loss: 0.0869 - val_accuracy: 0.9772\n",
      "Epoch 28/50\n",
      "112/112 [==============================] - 6s 51ms/step - loss: 0.1555 - accuracy: 0.9500 - val_loss: 0.0891 - val_accuracy: 0.9768\n",
      "Epoch 29/50\n",
      "112/112 [==============================] - 6s 53ms/step - loss: 0.1603 - accuracy: 0.9493 - val_loss: 0.0679 - val_accuracy: 0.9826\n",
      "Epoch 30/50\n",
      "112/112 [==============================] - 6s 51ms/step - loss: 0.1616 - accuracy: 0.9498 - val_loss: 0.0833 - val_accuracy: 0.9739\n",
      "Epoch 31/50\n",
      "112/112 [==============================] - 6s 54ms/step - loss: 0.1631 - accuracy: 0.9493 - val_loss: 0.0783 - val_accuracy: 0.9768\n",
      "Epoch 32/50\n",
      "112/112 [==============================] - 6s 53ms/step - loss: 0.1583 - accuracy: 0.9481 - val_loss: 0.0832 - val_accuracy: 0.9788\n",
      "Epoch 33/50\n",
      "112/112 [==============================] - 6s 51ms/step - loss: 0.1631 - accuracy: 0.9482 - val_loss: 0.0616 - val_accuracy: 0.9851\n",
      "Epoch 34/50\n",
      "112/112 [==============================] - 6s 54ms/step - loss: 0.1521 - accuracy: 0.9494 - val_loss: 0.0790 - val_accuracy: 0.9830\n",
      "Epoch 35/50\n",
      "112/112 [==============================] - 6s 54ms/step - loss: 0.1551 - accuracy: 0.9508 - val_loss: 0.0728 - val_accuracy: 0.9818\n",
      "Epoch 36/50\n",
      "112/112 [==============================] - 6s 50ms/step - loss: 0.1624 - accuracy: 0.9501 - val_loss: 0.0756 - val_accuracy: 0.9822\n",
      "Epoch 37/50\n",
      "112/112 [==============================] - 6s 54ms/step - loss: 0.1589 - accuracy: 0.9491 - val_loss: 0.0671 - val_accuracy: 0.9818\n",
      "Epoch 38/50\n",
      "112/112 [==============================] - 6s 53ms/step - loss: 0.1439 - accuracy: 0.9524 - val_loss: 0.0823 - val_accuracy: 0.9805\n",
      "Epoch 39/50\n",
      "112/112 [==============================] - 6s 54ms/step - loss: 0.1604 - accuracy: 0.9500 - val_loss: 0.0863 - val_accuracy: 0.9780\n",
      "Epoch 40/50\n",
      "112/112 [==============================] - 6s 54ms/step - loss: 0.1438 - accuracy: 0.9556 - val_loss: 0.0738 - val_accuracy: 0.9822\n",
      "Epoch 41/50\n",
      "112/112 [==============================] - 6s 54ms/step - loss: 0.1724 - accuracy: 0.9501 - val_loss: 0.0797 - val_accuracy: 0.9788\n",
      "Epoch 42/50\n",
      "112/112 [==============================] - 6s 54ms/step - loss: 0.1498 - accuracy: 0.9543 - val_loss: 0.0846 - val_accuracy: 0.9759\n",
      "Epoch 43/50\n",
      "112/112 [==============================] - 6s 54ms/step - loss: 0.1412 - accuracy: 0.9548 - val_loss: 0.0661 - val_accuracy: 0.9830\n",
      "Epoch 44/50\n",
      "112/112 [==============================] - 6s 53ms/step - loss: 0.1413 - accuracy: 0.9565 - val_loss: 0.0796 - val_accuracy: 0.9826\n",
      "Epoch 45/50\n",
      "112/112 [==============================] - 6s 52ms/step - loss: 0.1394 - accuracy: 0.9535 - val_loss: 0.0714 - val_accuracy: 0.9822\n",
      "Epoch 46/50\n",
      "112/112 [==============================] - 6s 51ms/step - loss: 0.1360 - accuracy: 0.9597 - val_loss: 0.0707 - val_accuracy: 0.9847\n",
      "Epoch 47/50\n",
      "112/112 [==============================] - 6s 53ms/step - loss: 0.1476 - accuracy: 0.9551 - val_loss: 0.0815 - val_accuracy: 0.9830\n",
      "Epoch 48/50\n",
      "112/112 [==============================] - 6s 51ms/step - loss: 0.1462 - accuracy: 0.9535 - val_loss: 0.0796 - val_accuracy: 0.9855\n",
      "Epoch 49/50\n",
      "112/112 [==============================] - 6s 51ms/step - loss: 0.1371 - accuracy: 0.9565 - val_loss: 0.0725 - val_accuracy: 0.9838\n",
      "Epoch 50/50\n",
      "112/112 [==============================] - 6s 52ms/step - loss: 0.1356 - accuracy: 0.9576 - val_loss: 0.0757 - val_accuracy: 0.9809\n"
     ]
    }
   ],
   "source": [
    "history=model.fit_generator(dataGen.flow(x_train, y_train,batch_size=86),\n",
    "\tsteps_per_epoch=len(x_train)//86,\n",
    "\tepochs=50,\n",
    "\tvalidation_data=(x_validation,y_validation),\n",
    "\tshuffle=1)\n",
    "\n",
    "model.save(\"MathNNet.h5\")"
   ]
  },
  {
   "cell_type": "code",
   "execution_count": null,
   "metadata": {
    "colab": {
     "base_uri": "https://localhost:8080/",
     "height": 325
    },
    "id": "_s-QOx5-X1BH",
    "outputId": "5f8d1557-e493-4b42-e1ed-7dd2cb379480"
   },
   "outputs": [
    {
     "name": "stdout",
     "output_type": "stream",
     "text": [
      "(287, 28, 28, 1)\n"
     ]
    },
    {
     "data": {
      "image/png": "[encoded data removed]",
      "text/plain": [
       "<Figure size 432x288 with 2 Axes>"
      ]
     },
     "metadata": {
      "needs_background": "light"
     },
     "output_type": "display_data"
    },
    {
     "name": "stdout",
     "output_type": "stream",
     "text": [
      "0.9930313588850174\n"
     ]
    }
   ],
   "source": [
    "from sklearn.metrics import confusion_matrix\n",
    "\n",
    "check_class = 3\n",
    "class_x_test = []\n",
    "class_y_test = []\n",
    "temp = np.argmax(y_test,axis=1)\n",
    "for i, x in enumerate(temp):\n",
    "  if x == check_class:\n",
    "    for j, y in enumerate(x_test):\n",
    "      if j == i:\n",
    "        class_x_test.append(y)\n",
    "    class_y_test.append(check_class)\n",
    "\n",
    "class_x_test = np.asarray(class_x_test)\n",
    "# class wise accuracy\n",
    "print(class_x_test.shape)\n",
    "class_y_pred = model.predict(class_x_test)\n",
    "class_y_pred = np.argmax(class_y_pred,axis=1)\n",
    "\n",
    "labels = list(set(class_y_pred))\n",
    "cm = confusion_matrix(class_y_test, class_y_pred)\n",
    "fig = plt.figure()\n",
    "ax = fig.add_subplot(111)\n",
    "cax = ax.matshow(cm)\n",
    "plt.title('Confusion matrix of the classifier')\n",
    "fig.colorbar(cax)\n",
    "ax.set_xticklabels([''] + labels)\n",
    "ax.set_yticklabels([''] + labels)\n",
    "plt.xlabel('Predicted')\n",
    "plt.ylabel('True')\n",
    "plt.show()\n",
    "\n",
    "from sklearn.metrics import accuracy_score\n",
    "acc = accuracy_score(class_y_test, class_y_pred)\n",
    "print(acc)"
   ]
  },
  {
   "cell_type": "code",
   "execution_count": null,
   "metadata": {
    "id": "3cpp-U8tOAft"
   },
   "outputs": [],
   "source": [
    "y_pred = model.predict(x_test)"
   ]
  },
  {
   "cell_type": "code",
   "execution_count": null,
   "metadata": {
    "colab": {
     "base_uri": "https://localhost:8080/"
    },
    "id": "8BHvuQpqQp4K",
    "outputId": "342e773d-b82a-4109-970f-39c0ee982b26"
   },
   "outputs": [
    {
     "data": {
      "text/plain": [
       "array([4, 7, 4, ..., 0, 7, 5])"
      ]
     },
     "execution_count": 88,
     "metadata": {},
     "output_type": "execute_result"
    }
   ],
   "source": [
    "y_pred_t = np.argmax(y_pred,axis=1)\n",
    "y_pred_t"
   ]
  },
  {
   "cell_type": "code",
   "execution_count": null,
   "metadata": {
    "colab": {
     "base_uri": "https://localhost:8080/"
    },
    "id": "1V_Qpmz3QzD4",
    "outputId": "1a6b5bd9-5107-4738-ef46-885bf3ceaabf"
   },
   "outputs": [
    {
     "data": {
      "text/plain": [
       "array([4, 7, 4, ..., 0, 7, 5])"
      ]
     },
     "execution_count": 89,
     "metadata": {},
     "output_type": "execute_result"
    }
   ],
   "source": [
    "y_test_t = np.argmax(y_test,axis=1)\n",
    "y_test_t"
   ]
  },
  {
   "cell_type": "code",
   "execution_count": null,
   "metadata": {
    "id": "9NYBvmM1Qa52"
   },
   "outputs": [],
   "source": [
    "from sklearn.metrics import confusion_matrix\n",
    "conf_mat = confusion_matrix(y_test_t, y_pred_t)"
   ]
  },
  {
   "cell_type": "code",
   "execution_count": null,
   "metadata": {
    "colab": {
     "base_uri": "https://localhost:8080/"
    },
    "id": "ZX2AdlHLROjm",
    "outputId": "15ab19ed-b6e3-4155-8d3c-b1c72fc846c0"
   },
   "outputs": [
    {
     "data": {
      "text/plain": [
       "array([[301,   0,   0,   0,   0,   1,   0,   1,   0,   0],\n",
       "       [  0, 313,   0,   0,   1,   0,   1,   0,   0,   5],\n",
       "       [  0,   0, 301,   0,   1,   0,   0,   1,   0,   0],\n",
       "       [  1,   0,   0, 285,   0,   0,   1,   0,   0,   0],\n",
       "       [  0,   0,   0,   0, 305,   0,   1,   1,   0,   0],\n",
       "       [  5,   0,   0,   1,   3, 286,   1,   0,   3,   0],\n",
       "       [  0,   0,   0,   4,   0,   3, 290,   0,   1,   1],\n",
       "       [  0,   0,   0,   0,   0,   0,   0, 314,   0,   0],\n",
       "       [  0,   0,   0,   1,   1,   0,   0,   0, 282,   1],\n",
       "       [  0,   7,   0,   0,   0,   0,   0,   1,   0, 289]])"
      ]
     },
     "execution_count": 91,
     "metadata": {},
     "output_type": "execute_result"
    }
   ],
   "source": [
    "conf_mat"
   ]
  },
  {
   "cell_type": "code",
   "execution_count": null,
   "metadata": {
    "colab": {
     "base_uri": "https://localhost:8080/"
    },
    "id": "ddIPvIlURoQl",
    "outputId": "616cb665-4803-4eff-ee30-ab6a29b7f298"
   },
   "outputs": [
    {
     "data": {
      "text/plain": [
       "0.9840743198407432"
      ]
     },
     "execution_count": 92,
     "metadata": {},
     "output_type": "execute_result"
    }
   ],
   "source": [
    "from sklearn.metrics import accuracy_score\n",
    "acc = accuracy_score(y_test_t,y_pred_t)\n",
    "acc"
   ]
  },
  {
   "cell_type": "code",
   "execution_count": null,
   "metadata": {
    "colab": {
     "base_uri": "https://localhost:8080/",
     "height": 563
    },
    "id": "en548eP4cQ-g",
    "outputId": "37fb9f3d-7abc-4ac0-b4cb-2ef7b7e5c2e2"
   },
   "outputs": [
    {
     "data": {
      "text/plain": [
       "Text(0.5, 1.0, 'Training and validation loss')"
      ]
     },
     "execution_count": 93,
     "metadata": {},
     "output_type": "execute_result"
    },
    {
     "data": {
      "image/png": "[encoded data removed]",
      "text/plain": [
       "<Figure size 432x288 with 1 Axes>"
      ]
     },
     "metadata": {
      "needs_background": "light"
     },
     "output_type": "display_data"
    },
    {
     "data": {
      "image/png": "[encoded data removed]",
      "text/plain": [
       "<Figure size 432x288 with 1 Axes>"
      ]
     },
     "metadata": {
      "needs_background": "light"
     },
     "output_type": "display_data"
    }
   ],
   "source": [
    "import matplotlib.pyplot as plt\n",
    "# Retrieve a list of accuracy results on training and validation data\n",
    "# sets for each training epoch\n",
    "acc = history.history['accuracy']\n",
    "val_acc = history.history['val_accuracy']\n",
    "\n",
    "# Retrieve a list of list results on training and validation data\n",
    "# sets for each training epoch\n",
    "loss = history.history['loss']\n",
    "val_loss = history.history['val_loss']\n",
    "\n",
    "# Get number of epochs\n",
    "epochs = range(len(acc))\n",
    "\n",
    "# Plot training and validation accuracy per epoch\n",
    "plt.plot(epochs, acc, label = 'acc')\n",
    "plt.plot(epochs, val_acc , label = 'Val_acc')\n",
    "plt.legend()\n",
    "plt.title('Training and validation accuracy')\n",
    "\n",
    "plt.figure()\n",
    "\n",
    "# Plot training and validation loss per epoch\n",
    "plt.plot(epochs, loss, label = 'loss')\n",
    "plt.plot(epochs, val_loss, label = 'val_loss')\n",
    "plt.legend()\n",
    "plt.title('Training and validation loss')"
   ]
  },
  {
   "cell_type": "code",
   "execution_count": null,
   "metadata": {
    "id": "4VAMk6IuCK_4"
   },
   "outputs": [],
   "source": []
  }
 ],
 "metadata": {
  "accelerator": "GPU",
  "colab": {
   "collapsed_sections": [],
   "name": "Mathnet_Bangla_Digit.ipynb",
   "provenance": []
  },
  "kernelspec": {
   "display_name": "Python 3",
   "language": "python",
   "name": "python3"
  },
  "language_info": {
   "codemirror_mode": {
    "name": "ipython",
    "version": 3
   },
   "file_extension": ".py",
   "mimetype": "text/x-python",
   "name": "python",
   "nbconvert_exporter": "python",
   "pygments_lexer": "ipython3",
   "version": "3.8.3"
  }
 },
 "nbformat": 4,
 "nbformat_minor": 5
}
