{
 "cells": [
  {
   "cell_type": "code",
   "execution_count": 1,
   "metadata": {
    "colab": {
     "base_uri": "https://localhost:8080/"
    },
    "id": "617Gof3fNiWu",
    "outputId": "56d9de68-0ce4-4a9f-afd8-882de94d2bd6"
   },
   "outputs": [],
   "source": [
    "base_dir = './Datasets/'"
   ]
  },
  {
   "cell_type": "code",
   "execution_count": null,
   "metadata": {
    "id": "8sktaq-gzi2S"
   },
   "outputs": [],
   "source": []
  },
  {
   "cell_type": "code",
   "execution_count": null,
   "metadata": {
    "colab": {
     "base_uri": "https://localhost:8080/"
    },
    "id": "SMWRRJ-UOAfi",
    "outputId": "0016d7b4-8559-4a0c-bae4-f0b7e40d1fee"
   },
   "outputs": [],
   "source": []
  },
  {
   "cell_type": "code",
   "execution_count": 2,
   "metadata": {
    "id": "8lAMc9KVOAfj"
   },
   "outputs": [],
   "source": [
    "import warnings\n",
    "warnings.filterwarnings('ignore')\n",
    "import cv2\n",
    "import numpy as np\n",
    "import os\n",
    "import matplotlib.pyplot as plt\n",
    "from sklearn.model_selection import train_test_split\n",
    "from tensorflow import keras \n",
    "from tensorflow.keras.preprocessing.image import ImageDataGenerator\n",
    "from keras.utils.np_utils import to_categorical\n",
    "from keras.models import Sequential\n",
    "from keras.layers import Conv2D, Dense, MaxPooling2D, Activation, Dropout, Flatten, MaxPool2D\n",
    "from tensorflow.keras.optimizers import Adam\n",
    "\n",
    "path='./BanglaDigit_Data/dataset'\n",
    "images=[]\n",
    "classNo=[]\n",
    "testRatio=0.2\n",
    "valRatio=0.2\n",
    "imgDimension=(28,28,3)"
   ]
  },
  {
   "cell_type": "code",
   "execution_count": 3,
   "metadata": {
    "colab": {
     "base_uri": "https://localhost:8080/"
    },
    "id": "JV1pfwXAOAfk",
    "outputId": "b47ead52-66fd-4cef-e3ce-070c6a567322"
   },
   "outputs": [
    {
     "ename": "FileNotFoundError",
     "evalue": "[WinError 3] The system cannot find the path specified: '/content/tmp/Numbers'",
     "output_type": "error",
     "traceback": [
      "\u001b[1;31m---------------------------------------------------------------------------\u001b[0m",
      "\u001b[1;31mFileNotFoundError\u001b[0m                         Traceback (most recent call last)",
      "\u001b[1;32m<ipython-input-3-e84ee70149df>\u001b[0m in \u001b[0;36m<module>\u001b[1;34m\u001b[0m\n\u001b[1;32m----> 1\u001b[1;33m \u001b[0mmyList\u001b[0m\u001b[1;33m=\u001b[0m\u001b[0mos\u001b[0m\u001b[1;33m.\u001b[0m\u001b[0mlistdir\u001b[0m\u001b[1;33m(\u001b[0m\u001b[0mpath\u001b[0m\u001b[1;33m)\u001b[0m\u001b[1;33m\u001b[0m\u001b[1;33m\u001b[0m\u001b[0m\n\u001b[0m\u001b[0;32m      2\u001b[0m \u001b[1;33m\u001b[0m\u001b[0m\n\u001b[0;32m      3\u001b[0m \u001b[0mnumOfClasses\u001b[0m\u001b[1;33m=\u001b[0m\u001b[0mlen\u001b[0m\u001b[1;33m(\u001b[0m\u001b[0mmyList\u001b[0m\u001b[1;33m)\u001b[0m\u001b[1;33m\u001b[0m\u001b[1;33m\u001b[0m\u001b[0m\n\u001b[0;32m      4\u001b[0m \u001b[1;33m\u001b[0m\u001b[0m\n\u001b[0;32m      5\u001b[0m \u001b[0mprint\u001b[0m\u001b[1;33m(\u001b[0m\u001b[1;34m\"Importing Classes..........\"\u001b[0m\u001b[1;33m)\u001b[0m\u001b[1;33m\u001b[0m\u001b[1;33m\u001b[0m\u001b[0m\n",
      "\u001b[1;31mFileNotFoundError\u001b[0m: [WinError 3] The system cannot find the path specified: '/content/tmp/Numbers'"
     ]
    }
   ],
   "source": [
    "myList=os.listdir(path)\n",
    "\n",
    "numOfClasses=len(myList)\n",
    "\n",
    "print(\"Importing Classes..........\")\n",
    "for x in range(0, numOfClasses):\n",
    "    myPicList=os.listdir(path+\"/\"+str(x))\n",
    "    for y in myPicList:\n",
    "        try:\n",
    "            curImg=cv2.imread(path+\"/\"+str(x)+\"/\"+y)\n",
    "            curImg=cv2.resize(curImg,(imgDimension[0],imgDimension[1]))\n",
    "            images.append(curImg)\n",
    "            classNo.append(x)\n",
    "        except:\n",
    "            pass\n",
    "    print(x)\n",
    "\n",
    "images=np.array(images)\n",
    "classNo=np.array(classNo)"
   ]
  },
  {
   "cell_type": "code",
   "execution_count": 6,
   "metadata": {
    "id": "frJCTRrFOAfl"
   },
   "outputs": [],
   "source": [
    "x_train, x_test, y_train, y_test=train_test_split(images, classNo, test_size=testRatio)\n",
    "x_train, x_validation, y_train, y_validation=train_test_split(x_train, y_train, test_size=valRatio)"
   ]
  },
  {
   "cell_type": "code",
   "execution_count": 7,
   "metadata": {
    "colab": {
     "base_uri": "https://localhost:8080/"
    },
    "id": "C3uW2yv_e3FP",
    "outputId": "52430275-5ae5-4a6c-c94d-64e9f78fcaa4"
   },
   "outputs": [
    {
     "data": {
      "text/plain": [
       "array([7, 7, 5, ..., 1, 4, 8])"
      ]
     },
     "execution_count": 7,
     "metadata": {},
     "output_type": "execute_result"
    }
   ],
   "source": [
    "y_train"
   ]
  },
  {
   "cell_type": "code",
   "execution_count": 8,
   "metadata": {
    "colab": {
     "base_uri": "https://localhost:8080/"
    },
    "id": "CcmHsPNVesPu",
    "outputId": "005b1dbe-673f-4151-d6b5-bf0e4cc7d152"
   },
   "outputs": [
    {
     "data": {
      "text/plain": [
       "array([[[[255, 255, 255],\n",
       "         [255, 255, 255],\n",
       "         [255, 255, 255],\n",
       "         ...,\n",
       "         [253, 253, 253],\n",
       "         [254, 254, 254],\n",
       "         [255, 255, 255]],\n",
       "\n",
       "        [[255, 255, 255],\n",
       "         [255, 255, 255],\n",
       "         [255, 255, 255],\n",
       "         ...,\n",
       "         [254, 254, 254],\n",
       "         [255, 255, 255],\n",
       "         [255, 255, 255]],\n",
       "\n",
       "        [[254, 254, 254],\n",
       "         [254, 254, 254],\n",
       "         [254, 254, 254],\n",
       "         ...,\n",
       "         [252, 252, 252],\n",
       "         [253, 253, 253],\n",
       "         [254, 254, 254]],\n",
       "\n",
       "        ...,\n",
       "\n",
       "        [[255, 255, 255],\n",
       "         [255, 255, 255],\n",
       "         [255, 255, 255],\n",
       "         ...,\n",
       "         [  1,   1,   1],\n",
       "         [ 36,  36,  36],\n",
       "         [205, 205, 205]],\n",
       "\n",
       "        [[255, 255, 255],\n",
       "         [255, 255, 255],\n",
       "         [255, 255, 255],\n",
       "         ...,\n",
       "         [  1,   1,   1],\n",
       "         [  1,   1,   1],\n",
       "         [196, 196, 196]],\n",
       "\n",
       "        [[255, 255, 255],\n",
       "         [255, 255, 255],\n",
       "         [255, 255, 255],\n",
       "         ...,\n",
       "         [ 33,  33,  33],\n",
       "         [143, 143, 143],\n",
       "         [237, 237, 237]]],\n",
       "\n",
       "\n",
       "       [[[255, 255, 255],\n",
       "         [255, 255, 255],\n",
       "         [255, 255, 255],\n",
       "         ...,\n",
       "         [254, 254, 254],\n",
       "         [255, 255, 255],\n",
       "         [254, 254, 254]],\n",
       "\n",
       "        [[255, 255, 255],\n",
       "         [255, 255, 255],\n",
       "         [255, 255, 255],\n",
       "         ...,\n",
       "         [244, 244, 244],\n",
       "         [253, 253, 253],\n",
       "         [254, 254, 254]],\n",
       "\n",
       "        [[255, 255, 255],\n",
       "         [255, 255, 255],\n",
       "         [254, 254, 254],\n",
       "         ...,\n",
       "         [ 17,  17,  17],\n",
       "         [ 74,  74,  74],\n",
       "         [231, 231, 231]],\n",
       "\n",
       "        ...,\n",
       "\n",
       "        [[255, 255, 255],\n",
       "         [255, 255, 255],\n",
       "         [255, 255, 255],\n",
       "         ...,\n",
       "         [253, 253, 253],\n",
       "         [252, 252, 252],\n",
       "         [253, 253, 253]],\n",
       "\n",
       "        [[255, 255, 255],\n",
       "         [255, 255, 255],\n",
       "         [255, 255, 255],\n",
       "         ...,\n",
       "         [253, 253, 253],\n",
       "         [253, 253, 253],\n",
       "         [255, 255, 255]],\n",
       "\n",
       "        [[255, 255, 255],\n",
       "         [255, 255, 255],\n",
       "         [255, 255, 255],\n",
       "         ...,\n",
       "         [253, 253, 253],\n",
       "         [255, 255, 255],\n",
       "         [254, 254, 254]]],\n",
       "\n",
       "\n",
       "       [[[255, 255, 255],\n",
       "         [255, 255, 255],\n",
       "         [255, 255, 255],\n",
       "         ...,\n",
       "         [252, 252, 252],\n",
       "         [255, 255, 255],\n",
       "         [255, 255, 255]],\n",
       "\n",
       "        [[255, 255, 255],\n",
       "         [255, 255, 255],\n",
       "         [254, 254, 254],\n",
       "         ...,\n",
       "         [253, 253, 253],\n",
       "         [255, 255, 255],\n",
       "         [255, 255, 255]],\n",
       "\n",
       "        [[255, 255, 255],\n",
       "         [255, 255, 255],\n",
       "         [255, 255, 255],\n",
       "         ...,\n",
       "         [254, 254, 254],\n",
       "         [254, 254, 254],\n",
       "         [253, 253, 253]],\n",
       "\n",
       "        ...,\n",
       "\n",
       "        [[254, 254, 254],\n",
       "         [254, 254, 254],\n",
       "         [253, 253, 253],\n",
       "         ...,\n",
       "         [255, 255, 255],\n",
       "         [255, 255, 255],\n",
       "         [255, 255, 255]],\n",
       "\n",
       "        [[255, 255, 255],\n",
       "         [254, 254, 254],\n",
       "         [253, 253, 253],\n",
       "         ...,\n",
       "         [255, 255, 255],\n",
       "         [255, 255, 255],\n",
       "         [255, 255, 255]],\n",
       "\n",
       "        [[255, 255, 255],\n",
       "         [254, 254, 254],\n",
       "         [254, 254, 254],\n",
       "         ...,\n",
       "         [255, 255, 255],\n",
       "         [255, 255, 255],\n",
       "         [255, 255, 255]]],\n",
       "\n",
       "\n",
       "       ...,\n",
       "\n",
       "\n",
       "       [[[255, 255, 255],\n",
       "         [255, 255, 255],\n",
       "         [254, 254, 254],\n",
       "         ...,\n",
       "         [255, 255, 255],\n",
       "         [255, 255, 255],\n",
       "         [255, 255, 255]],\n",
       "\n",
       "        [[255, 255, 255],\n",
       "         [254, 254, 254],\n",
       "         [254, 254, 254],\n",
       "         ...,\n",
       "         [255, 255, 255],\n",
       "         [255, 255, 255],\n",
       "         [255, 255, 255]],\n",
       "\n",
       "        [[255, 255, 255],\n",
       "         [254, 254, 254],\n",
       "         [254, 254, 254],\n",
       "         ...,\n",
       "         [254, 254, 254],\n",
       "         [254, 254, 254],\n",
       "         [254, 254, 254]],\n",
       "\n",
       "        ...,\n",
       "\n",
       "        [[253, 253, 253],\n",
       "         [254, 254, 254],\n",
       "         [253, 253, 253],\n",
       "         ...,\n",
       "         [246, 246, 246],\n",
       "         [252, 252, 252],\n",
       "         [254, 254, 254]],\n",
       "\n",
       "        [[255, 255, 255],\n",
       "         [254, 254, 254],\n",
       "         [253, 253, 253],\n",
       "         ...,\n",
       "         [253, 253, 253],\n",
       "         [253, 253, 253],\n",
       "         [254, 254, 254]],\n",
       "\n",
       "        [[254, 254, 254],\n",
       "         [253, 253, 253],\n",
       "         [254, 254, 254],\n",
       "         ...,\n",
       "         [254, 254, 254],\n",
       "         [253, 253, 253],\n",
       "         [252, 252, 252]]],\n",
       "\n",
       "\n",
       "       [[[255, 255, 255],\n",
       "         [255, 255, 255],\n",
       "         [255, 255, 255],\n",
       "         ...,\n",
       "         [255, 255, 255],\n",
       "         [254, 254, 254],\n",
       "         [227, 227, 227]],\n",
       "\n",
       "        [[255, 255, 255],\n",
       "         [255, 255, 255],\n",
       "         [255, 255, 255],\n",
       "         ...,\n",
       "         [255, 255, 255],\n",
       "         [254, 254, 254],\n",
       "         [239, 239, 239]],\n",
       "\n",
       "        [[255, 255, 255],\n",
       "         [255, 255, 255],\n",
       "         [255, 255, 255],\n",
       "         ...,\n",
       "         [255, 255, 255],\n",
       "         [255, 255, 255],\n",
       "         [253, 253, 253]],\n",
       "\n",
       "        ...,\n",
       "\n",
       "        [[255, 255, 255],\n",
       "         [255, 255, 255],\n",
       "         [255, 255, 255],\n",
       "         ...,\n",
       "         [255, 255, 255],\n",
       "         [254, 254, 254],\n",
       "         [253, 253, 253]],\n",
       "\n",
       "        [[255, 255, 255],\n",
       "         [255, 255, 255],\n",
       "         [255, 255, 255],\n",
       "         ...,\n",
       "         [255, 255, 255],\n",
       "         [255, 255, 255],\n",
       "         [253, 253, 253]],\n",
       "\n",
       "        [[255, 255, 255],\n",
       "         [255, 255, 255],\n",
       "         [255, 255, 255],\n",
       "         ...,\n",
       "         [255, 255, 255],\n",
       "         [254, 254, 254],\n",
       "         [252, 252, 252]]],\n",
       "\n",
       "\n",
       "       [[[204, 204, 204],\n",
       "         [202, 202, 202],\n",
       "         [199, 199, 199],\n",
       "         ...,\n",
       "         [242, 242, 242],\n",
       "         [191, 191, 191],\n",
       "         [241, 241, 241]],\n",
       "\n",
       "        [[254, 254, 254],\n",
       "         [255, 255, 255],\n",
       "         [254, 254, 254],\n",
       "         ...,\n",
       "         [255, 255, 255],\n",
       "         [254, 254, 254],\n",
       "         [255, 255, 255]],\n",
       "\n",
       "        [[255, 255, 255],\n",
       "         [255, 255, 255],\n",
       "         [255, 255, 255],\n",
       "         ...,\n",
       "         [255, 255, 255],\n",
       "         [255, 255, 255],\n",
       "         [255, 255, 255]],\n",
       "\n",
       "        ...,\n",
       "\n",
       "        [[255, 255, 255],\n",
       "         [255, 255, 255],\n",
       "         [255, 255, 255],\n",
       "         ...,\n",
       "         [255, 255, 255],\n",
       "         [255, 255, 255],\n",
       "         [255, 255, 255]],\n",
       "\n",
       "        [[255, 255, 255],\n",
       "         [255, 255, 255],\n",
       "         [255, 255, 255],\n",
       "         ...,\n",
       "         [255, 255, 255],\n",
       "         [255, 255, 255],\n",
       "         [255, 255, 255]],\n",
       "\n",
       "        [[255, 255, 255],\n",
       "         [255, 255, 255],\n",
       "         [255, 255, 255],\n",
       "         ...,\n",
       "         [255, 255, 255],\n",
       "         [255, 255, 255],\n",
       "         [255, 255, 255]]]], dtype=uint8)"
      ]
     },
     "execution_count": 8,
     "metadata": {},
     "output_type": "execute_result"
    }
   ],
   "source": [
    "x_train"
   ]
  },
  {
   "cell_type": "code",
   "execution_count": 9,
   "metadata": {
    "colab": {
     "base_uri": "https://localhost:8080/",
     "height": 350
    },
    "id": "Tw5BmhNTOAfm",
    "outputId": "959c3361-49d5-482f-e34c-fc635b1f7cc5"
   },
   "outputs": [
    {
     "data": {
      "image/png": "[encoded data removed]",
      "text/plain": [
       "<Figure size 720x360 with 1 Axes>"
      ]
     },
     "metadata": {
      "needs_background": "light"
     },
     "output_type": "display_data"
    }
   ],
   "source": [
    "numOfSample=[]\n",
    "\n",
    "for x in range(0,numOfClasses):\n",
    "\tnumOfSample.append(len(np.where(y_train==x)[0]))\n",
    "\n",
    "\n",
    "plt.figure(figsize=(10,5))\n",
    "plt.bar(range(0, numOfClasses),numOfSample)\n",
    "plt.title(\"Bar Plot of Classes & Images\")\n",
    "plt.xlabel(\"No Of Classes\")\n",
    "plt.ylabel(\"No of Images\")\n",
    "plt.show()"
   ]
  },
  {
   "cell_type": "code",
   "execution_count": 10,
   "metadata": {
    "id": "nRU1Uy_1OAfn"
   },
   "outputs": [],
   "source": [
    "def preprocessing(img):\n",
    "\t# img=np.astype(\"uint8\")\n",
    "\timg=cv2.cvtColor(img, cv2.COLOR_BGR2GRAY)\n",
    "\t_, img = cv2.threshold(img, 170, 255, cv2.THRESH_BINARY)\n",
    "\timg=cv2.equalizeHist(img)\n",
    "\timg=img/255\n",
    "\treturn img\n",
    "\n",
    "\n",
    "x_train=np.array(list(map(preprocessing, x_train)))\n",
    "x_test=np.array(list(map(preprocessing, x_test)))\n",
    "x_validation=np.array(list(map(preprocessing, x_validation)))"
   ]
  },
  {
   "cell_type": "code",
   "execution_count": 11,
   "metadata": {
    "colab": {
     "base_uri": "https://localhost:8080/",
     "height": 916
    },
    "id": "PPQWLfGreZU3",
    "outputId": "a9c6c43b-faa5-4917-d0ea-fea39bbe61ef"
   },
   "outputs": [
    {
     "data": {
      "image/png": "[encoded data removed]",
      "text/plain": [
       "<Figure size 1152x1152 with 16 Axes>"
      ]
     },
     "metadata": {
      "needs_background": "light"
     },
     "output_type": "display_data"
    }
   ],
   "source": [
    "\n",
    "def plotImagesAndLabels():\n",
    "    t_x, t_y = x_train, y_train\n",
    "    fig, m_axs = plt.subplots(4, 4, figsize = (16, 16))\n",
    "    for (c_x, c_y, c_ax) in zip(t_x, t_y, m_axs.flatten()):\n",
    "        c_ax.imshow(c_x[:,:], cmap = 'bone', vmin = -1.5, vmax = 1.5)\n",
    "        c_ax.set_title(', '+str(c_y))\n",
    "        c_ax.axis('off')\n",
    "plotImagesAndLabels()"
   ]
  },
  {
   "cell_type": "code",
   "execution_count": 11,
   "metadata": {
    "id": "K_62YcMBf0f0"
   },
   "outputs": [],
   "source": []
  },
  {
   "cell_type": "code",
   "execution_count": 12,
   "metadata": {
    "id": "wjz8nufbOAfp"
   },
   "outputs": [],
   "source": [
    "\n",
    "x_train=x_train.reshape(x_train.shape[0], x_train.shape[1], x_train.shape[2],1)\n",
    "x_test=x_test.reshape(x_test.shape[0], x_test.shape[1], x_test.shape[2],1)\n",
    "x_validation=x_validation.reshape(x_validation.shape[0], x_validation.shape[1], x_validation.shape[2],1)\n",
    "\n",
    "\n",
    "dataGen=ImageDataGenerator(\n",
    "\twidth_shift_range=0.1,\n",
    "\theight_shift_range=0.1,\n",
    "\tzoom_range=0.2,\n",
    "\tshear_range=0.1,\n",
    "\trotation_range=10)\n",
    "\n",
    "dataGen.fit(x_train)\n",
    "\n",
    "y_train=to_categorical(y_train, numOfClasses)\n",
    "y_test=to_categorical(y_test, numOfClasses)\n",
    "y_validation=to_categorical(y_validation, numOfClasses)"
   ]
  },
  {
   "cell_type": "code",
   "execution_count": 15,
   "metadata": {
    "id": "xj7yGn78YeGT"
   },
   "outputs": [],
   "source": [
    "def model():\n",
    "  # building a linear stack of layers with the sequential model\n",
    "  model = Sequential()\n",
    "\n",
    "  # convolutional layer\n",
    "  model.add(Conv2D(32, kernel_size=(5,5), padding='same', activation='relu', input_shape=(28, 28, 1)))\n",
    "\n",
    "  # convolutional layer 2\n",
    "  model.add(Conv2D(32, kernel_size=(5,5), padding='same', activation='relu'))\n",
    "  model.add(MaxPool2D(pool_size=(2,2)))\n",
    "  model.add(Dropout(0.5))\n",
    "  #convolution layer 3\n",
    "  model.add(Conv2D(64, kernel_size=(3,3), padding='same', activation='relu'))\n",
    "  model.add(Conv2D(64, kernel_size=(3,3), padding='same', activation='relu'))\n",
    "  model.add(MaxPool2D(pool_size=(2,2)))\n",
    "  model.add(Dropout(0.5))\n",
    "\n",
    "  # flatten output of conv\n",
    "  model.add(Flatten())\n",
    "\n",
    "  # hidden layer\n",
    "  model.add(Dense(256, activation='relu'))\n",
    "  model.add(Dropout(0.25))\n",
    "  # output layer\n",
    "  model.add(Dense(10, activation='softmax'))\n",
    "  model.compile(Adam(lr=0.001),loss='categorical_crossentropy',metrics=['accuracy'])\n",
    "  return model\n",
    "\n",
    "model = model()"
   ]
  },
  {
   "cell_type": "code",
   "execution_count": null,
   "metadata": {
    "colab": {
     "base_uri": "https://localhost:8080/"
    },
    "id": "rU34ic3bOAfs",
    "outputId": "73a0f03d-5154-49f5-deb5-7e9a0246f2eb"
   },
   "outputs": [
    {
     "name": "stdout",
     "output_type": "stream",
     "text": [
      "Epoch 1/50\n",
      "112/112 [==============================] - 5s 49ms/step - loss: 0.0647 - accuracy: 0.9774 - val_loss: 0.0408 - val_accuracy: 0.9909\n",
      "Epoch 2/50\n",
      "112/112 [==============================] - 5s 48ms/step - loss: 0.0753 - accuracy: 0.9774 - val_loss: 0.0407 - val_accuracy: 0.9913\n",
      "Epoch 3/50\n",
      "112/112 [==============================] - 6s 50ms/step - loss: 0.0608 - accuracy: 0.9796 - val_loss: 0.0406 - val_accuracy: 0.9917\n",
      "Epoch 4/50\n",
      "112/112 [==============================] - 5s 48ms/step - loss: 0.0612 - accuracy: 0.9799 - val_loss: 0.0334 - val_accuracy: 0.9921\n",
      "Epoch 5/50\n",
      "112/112 [==============================] - 5s 49ms/step - loss: 0.0615 - accuracy: 0.9813 - val_loss: 0.0347 - val_accuracy: 0.9896\n",
      "Epoch 6/50\n",
      "112/112 [==============================] - 5s 48ms/step - loss: 0.0617 - accuracy: 0.9799 - val_loss: 0.0351 - val_accuracy: 0.9905\n",
      "Epoch 7/50\n",
      "112/112 [==============================] - 5s 49ms/step - loss: 0.0702 - accuracy: 0.9773 - val_loss: 0.0337 - val_accuracy: 0.9917\n",
      "Epoch 8/50\n",
      "112/112 [==============================] - 5s 48ms/step - loss: 0.0650 - accuracy: 0.9784 - val_loss: 0.0332 - val_accuracy: 0.9913\n",
      "Epoch 9/50\n",
      "112/112 [==============================] - 5s 48ms/step - loss: 0.0612 - accuracy: 0.9812 - val_loss: 0.0372 - val_accuracy: 0.9917\n",
      "Epoch 10/50\n",
      "112/112 [==============================] - 6s 50ms/step - loss: 0.0658 - accuracy: 0.9780 - val_loss: 0.0373 - val_accuracy: 0.9913\n",
      "Epoch 11/50\n",
      "112/112 [==============================] - 6s 50ms/step - loss: 0.0666 - accuracy: 0.9796 - val_loss: 0.0407 - val_accuracy: 0.9905\n",
      "Epoch 12/50\n",
      "112/112 [==============================] - 6s 50ms/step - loss: 0.0653 - accuracy: 0.9798 - val_loss: 0.0341 - val_accuracy: 0.9913\n",
      "Epoch 13/50\n",
      "112/112 [==============================] - 6s 51ms/step - loss: 0.0612 - accuracy: 0.9799 - val_loss: 0.0374 - val_accuracy: 0.9909\n",
      "Epoch 14/50\n",
      "112/112 [==============================] - 5s 49ms/step - loss: 0.0667 - accuracy: 0.9769 - val_loss: 0.0303 - val_accuracy: 0.9925\n",
      "Epoch 15/50\n",
      "112/112 [==============================] - 5s 48ms/step - loss: 0.0618 - accuracy: 0.9789 - val_loss: 0.0320 - val_accuracy: 0.9925\n",
      "Epoch 16/50\n",
      "112/112 [==============================] - 6s 51ms/step - loss: 0.0702 - accuracy: 0.9776 - val_loss: 0.0341 - val_accuracy: 0.9913\n",
      "Epoch 17/50\n",
      "112/112 [==============================] - 6s 49ms/step - loss: 0.0574 - accuracy: 0.9806 - val_loss: 0.0361 - val_accuracy: 0.9896\n",
      "Epoch 18/50\n",
      "112/112 [==============================] - 5s 48ms/step - loss: 0.0678 - accuracy: 0.9774 - val_loss: 0.0296 - val_accuracy: 0.9929\n",
      "Epoch 19/50\n",
      "112/112 [==============================] - 6s 50ms/step - loss: 0.0607 - accuracy: 0.9796 - val_loss: 0.0343 - val_accuracy: 0.9917\n",
      "Epoch 20/50\n",
      "112/112 [==============================] - ETA: 0s - loss: 0.0655 - accuracy: 0.9781"
     ]
    }
   ],
   "source": [
    "history=model.fit_generator(dataGen.flow(x_train, y_train,batch_size=86),\n",
    "\tsteps_per_epoch=len(x_train)//86,\n",
    "\tepochs=50,\n",
    "\tvalidation_data=(x_validation,y_validation),\n",
    "\tshuffle=1)\n",
    "\n",
    "model.save(\"MathNNet.h5\")"
   ]
  },
  {
   "cell_type": "code",
   "execution_count": 38,
   "metadata": {
    "colab": {
     "base_uri": "https://localhost:8080/",
     "height": 325
    },
    "id": "_s-QOx5-X1BH",
    "outputId": "771d8859-0646-4b81-cc51-6d1ff981c038"
   },
   "outputs": [
    {
     "name": "stdout",
     "output_type": "stream",
     "text": [
      "(288, 28, 28, 1)\n"
     ]
    },
    {
     "data": {
      "image/png": "[encoded data removed]",
      "text/plain": [
       "<Figure size 432x288 with 2 Axes>"
      ]
     },
     "metadata": {
      "needs_background": "light"
     },
     "output_type": "display_data"
    },
    {
     "name": "stdout",
     "output_type": "stream",
     "text": [
      "0.9895833333333334\n"
     ]
    }
   ],
   "source": [
    "from sklearn.metrics import confusion_matrix\n",
    "\n",
    "check_class = 3\n",
    "class_x_test = []\n",
    "class_y_test = []\n",
    "temp = np.argmax(y_test,axis=1)\n",
    "for i, x in enumerate(temp):\n",
    "  if x == check_class:\n",
    "    for j, y in enumerate(x_test):\n",
    "      if j == i:\n",
    "        class_x_test.append(y)\n",
    "    class_y_test.append(check_class)\n",
    "\n",
    "class_x_test = np.asarray(class_x_test)\n",
    "# class wise accuracy\n",
    "print(class_x_test.shape)\n",
    "class_y_pred = model.predict(class_x_test)\n",
    "class_y_pred = np.argmax(class_y_pred,axis=1)\n",
    "\n",
    "labels = list(set(class_y_pred))\n",
    "cm = confusion_matrix(class_y_test, class_y_pred)\n",
    "fig = plt.figure()\n",
    "ax = fig.add_subplot(111)\n",
    "cax = ax.matshow(cm)\n",
    "plt.title('Confusion matrix of the classifier')\n",
    "fig.colorbar(cax)\n",
    "ax.set_xticklabels([''] + labels)\n",
    "ax.set_yticklabels([''] + labels)\n",
    "plt.xlabel('Predicted')\n",
    "plt.ylabel('True')\n",
    "plt.show()\n",
    "\n",
    "from sklearn.metrics import accuracy_score\n",
    "acc = accuracy_score(class_y_test, class_y_pred)\n",
    "print(acc)"
   ]
  },
  {
   "cell_type": "code",
   "execution_count": 39,
   "metadata": {
    "id": "3cpp-U8tOAft"
   },
   "outputs": [],
   "source": [
    "y_pred = model.predict(x_test)"
   ]
  },
  {
   "cell_type": "code",
   "execution_count": 40,
   "metadata": {
    "colab": {
     "base_uri": "https://localhost:8080/"
    },
    "id": "8BHvuQpqQp4K",
    "outputId": "932262d0-3049-4894-a418-9ee76f16abdb"
   },
   "outputs": [
    {
     "data": {
      "text/plain": [
       "array([1, 0, 9, ..., 3, 5, 5])"
      ]
     },
     "execution_count": 40,
     "metadata": {},
     "output_type": "execute_result"
    }
   ],
   "source": [
    "y_pred_t = np.argmax(y_pred,axis=1)\n",
    "y_pred_t"
   ]
  },
  {
   "cell_type": "code",
   "execution_count": 41,
   "metadata": {
    "colab": {
     "base_uri": "https://localhost:8080/"
    },
    "id": "1V_Qpmz3QzD4",
    "outputId": "cbed880f-cc31-47c9-ed97-c6009a042160"
   },
   "outputs": [
    {
     "data": {
      "text/plain": [
       "array([1, 0, 9, ..., 3, 5, 5])"
      ]
     },
     "execution_count": 41,
     "metadata": {},
     "output_type": "execute_result"
    }
   ],
   "source": [
    "y_test_t = np.argmax(y_test,axis=1)\n",
    "y_test_t"
   ]
  },
  {
   "cell_type": "code",
   "execution_count": 42,
   "metadata": {
    "id": "9NYBvmM1Qa52"
   },
   "outputs": [],
   "source": [
    "from sklearn.metrics import confusion_matrix\n",
    "conf_mat = confusion_matrix(y_test_t, y_pred_t)"
   ]
  },
  {
   "cell_type": "code",
   "execution_count": 43,
   "metadata": {
    "colab": {
     "base_uri": "https://localhost:8080/"
    },
    "id": "ZX2AdlHLROjm",
    "outputId": "a2bd7929-7ab2-4ec8-d807-9bf19bdc9da8"
   },
   "outputs": [
    {
     "data": {
      "text/plain": [
       "array([[312,   1,   0,   0,   0,   0,   0,   2,   0,   0],\n",
       "       [  0, 314,   1,   0,   1,   0,   0,   0,   0,   0],\n",
       "       [  0,   2, 295,   0,   0,   0,   0,   0,   0,   0],\n",
       "       [  0,   0,   0, 285,   0,   1,   2,   0,   0,   0],\n",
       "       [  0,   0,   1,   0, 314,   1,   0,   0,   0,   0],\n",
       "       [  0,   0,   0,   0,   1, 287,   0,   0,   1,   0],\n",
       "       [  0,   0,   0,   1,   0,   3, 288,   1,   0,   0],\n",
       "       [  0,   0,   0,   0,   2,   1,   0, 287,   2,   0],\n",
       "       [  0,   0,   0,   0,   1,   0,   1,   0, 294,   0],\n",
       "       [  0,   8,   0,   0,   1,   0,   0,   0,   1, 302]])"
      ]
     },
     "execution_count": 43,
     "metadata": {},
     "output_type": "execute_result"
    }
   ],
   "source": [
    "conf_mat"
   ]
  },
  {
   "cell_type": "code",
   "execution_count": 44,
   "metadata": {
    "colab": {
     "base_uri": "https://localhost:8080/"
    },
    "id": "ddIPvIlURoQl",
    "outputId": "1b4c9ccf-d8df-4342-ad8c-3c3ef1b7d710"
   },
   "outputs": [
    {
     "data": {
      "text/plain": [
       "0.9880557398805574"
      ]
     },
     "execution_count": 44,
     "metadata": {},
     "output_type": "execute_result"
    }
   ],
   "source": [
    "from sklearn.metrics import accuracy_score\n",
    "acc = accuracy_score(y_test_t,y_pred_t)\n",
    "acc"
   ]
  },
  {
   "cell_type": "code",
   "execution_count": 46,
   "metadata": {
    "colab": {
     "base_uri": "https://localhost:8080/",
     "height": 563
    },
    "id": "en548eP4cQ-g",
    "outputId": "fb374283-fdbf-4cca-b43c-b4816a125f42"
   },
   "outputs": [
    {
     "data": {
      "text/plain": [
       "Text(0.5, 1.0, 'Training and validation loss')"
      ]
     },
     "execution_count": 46,
     "metadata": {},
     "output_type": "execute_result"
    },
    {
     "data": {
      "image/png": "[encoded data removed]",
      "text/plain": [
       "<Figure size 432x288 with 1 Axes>"
      ]
     },
     "metadata": {
      "needs_background": "light"
     },
     "output_type": "display_data"
    },
    {
     "data": {
      "image/png": "[encoded data removed]",
      "text/plain": [
       "<Figure size 432x288 with 1 Axes>"
      ]
     },
     "metadata": {
      "needs_background": "light"
     },
     "output_type": "display_data"
    }
   ],
   "source": [
    "import matplotlib.pyplot as plt\n",
    "# Retrieve a list of accuracy results on training and validation data\n",
    "# sets for each training epoch\n",
    "acc = history.history['accuracy']\n",
    "val_acc = history.history['val_accuracy']\n",
    "\n",
    "# Retrieve a list of list results on training and validation data\n",
    "# sets for each training epoch\n",
    "loss = history.history['loss']\n",
    "val_loss = history.history['val_loss']\n",
    "\n",
    "# Get number of epochs\n",
    "epochs = range(len(acc))\n",
    "\n",
    "# Plot training and validation accuracy per epoch\n",
    "plt.plot(epochs, acc, label = 'acc')\n",
    "plt.plot(epochs, val_acc , label = 'Val_acc')\n",
    "plt.legend()\n",
    "plt.title('Training and validation accuracy')\n",
    "\n",
    "plt.figure()\n",
    "\n",
    "# Plot training and validation loss per epoch\n",
    "plt.plot(epochs, loss, label = 'loss')\n",
    "plt.plot(epochs, val_loss, label = 'val_loss')\n",
    "plt.legend()\n",
    "plt.title('Training and validation loss')"
   ]
  },
  {
   "cell_type": "code",
   "execution_count": null,
   "metadata": {
    "id": "4VAMk6IuCK_4"
   },
   "outputs": [],
   "source": []
  }
 ],
 "metadata": {
  "accelerator": "GPU",
  "colab": {
   "collapsed_sections": [],
   "name": "Mathnet Bangla Digit.ipynb",
   "provenance": []
  },
  "kernelspec": {
   "display_name": "Python 3",
   "language": "python",
   "name": "python3"
  },
  "language_info": {
   "codemirror_mode": {
    "name": "ipython",
    "version": 3
   },
   "file_extension": ".py",
   "mimetype": "text/x-python",
   "name": "python",
   "nbconvert_exporter": "python",
   "pygments_lexer": "ipython3",
   "version": "3.8.3"
  }
 },
 "nbformat": 4,
 "nbformat_minor": 5
}
