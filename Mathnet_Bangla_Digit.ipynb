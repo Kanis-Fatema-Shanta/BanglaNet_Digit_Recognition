{
 "cells": [
  {
   "cell_type": "code",
   "execution_count": 18,
   "metadata": {
    "colab": {
     "base_uri": "https://localhost:8080/"
    },
    "id": "617Gof3fNiWu",
    "outputId": "56d9de68-0ce4-4a9f-afd8-882de94d2bd6"
   },
   "outputs": [],
   "source": [
    "base_dir = './Numerical_BanglaLekhaIsolated'"
   ]
  },
  {
   "cell_type": "code",
   "execution_count": null,
   "metadata": {
    "id": "8sktaq-gzi2S"
   },
   "outputs": [],
   "source": []
  },
  {
   "cell_type": "code",
   "execution_count": null,
   "metadata": {
    "colab": {
     "base_uri": "https://localhost:8080/"
    },
    "id": "SMWRRJ-UOAfi",
    "outputId": "0016d7b4-8559-4a0c-bae4-f0b7e40d1fee"
   },
   "outputs": [],
   "source": []
  },
  {
   "cell_type": "code",
   "execution_count": 19,
   "metadata": {
    "id": "8lAMc9KVOAfj"
   },
   "outputs": [],
   "source": [
    "import warnings\n",
    "warnings.filterwarnings('ignore')\n",
    "import cv2\n",
    "import numpy as np\n",
    "import os\n",
    "import matplotlib.pyplot as plt\n",
    "from sklearn.model_selection import train_test_split\n",
    "from tensorflow import keras \n",
    "from tensorflow.keras.preprocessing.image import ImageDataGenerator\n",
    "from keras.utils.np_utils import to_categorical\n",
    "from keras.models import Sequential\n",
    "from keras.layers import Conv2D, Dense, MaxPooling2D, Activation, Dropout, Flatten, MaxPool2D\n",
    "from tensorflow.keras.optimizers import Adam\n",
    "\n",
    "path='./Numerical_BanglaLekhaIsolated'\n",
    "images=[]\n",
    "classNo=[]\n",
    "testRatio=0.2\n",
    "valRatio=0.2\n",
    "imgDimension=(28,28,3)"
   ]
  },
  {
   "cell_type": "code",
   "execution_count": 20,
   "metadata": {
    "colab": {
     "base_uri": "https://localhost:8080/"
    },
    "id": "JV1pfwXAOAfk",
    "outputId": "b47ead52-66fd-4cef-e3ce-070c6a567322"
   },
   "outputs": [
    {
     "name": "stdout",
     "output_type": "stream",
     "text": [
      "Importing Classes..........\n",
      "0\n",
      "1\n",
      "2\n",
      "3\n",
      "4\n",
      "5\n",
      "6\n",
      "7\n",
      "8\n",
      "9\n"
     ]
    }
   ],
   "source": [
    "myList=os.listdir(path)\n",
    "\n",
    "numOfClasses=len(myList)\n",
    "\n",
    "print(\"Importing Classes..........\")\n",
    "for x in range(0, numOfClasses):\n",
    "    myPicList=os.listdir(path+\"/\"+str(x))\n",
    "    for y in myPicList:\n",
    "        try:\n",
    "            curImg=cv2.imread(path+\"/\"+str(x)+\"/\"+y)\n",
    "            curImg=cv2.resize(curImg,(imgDimension[0],imgDimension[1]))\n",
    "            images.append(curImg)\n",
    "            classNo.append(x)\n",
    "        except:\n",
    "            pass\n",
    "    print(x)\n",
    "\n",
    "images=np.array(images)\n",
    "classNo=np.array(classNo)"
   ]
  },
  {
   "cell_type": "code",
   "execution_count": 21,
   "metadata": {
    "id": "frJCTRrFOAfl"
   },
   "outputs": [],
   "source": [
    "x_train, x_test, y_train, y_test=train_test_split(images, classNo, test_size=testRatio)\n",
    "x_train, x_validation, y_train, y_validation=train_test_split(x_train, y_train, test_size=valRatio)"
   ]
  },
  {
   "cell_type": "code",
   "execution_count": 22,
   "metadata": {
    "colab": {
     "base_uri": "https://localhost:8080/"
    },
    "id": "C3uW2yv_e3FP",
    "outputId": "52430275-5ae5-4a6c-c94d-64e9f78fcaa4"
   },
   "outputs": [
    {
     "data": {
      "text/plain": [
       "array([3, 3, 8, ..., 4, 4, 9])"
      ]
     },
     "execution_count": 22,
     "metadata": {},
     "output_type": "execute_result"
    }
   ],
   "source": [
    "y_train"
   ]
  },
  {
   "cell_type": "code",
   "execution_count": 23,
   "metadata": {
    "colab": {
     "base_uri": "https://localhost:8080/"
    },
    "id": "CcmHsPNVesPu",
    "outputId": "005b1dbe-673f-4151-d6b5-bf0e4cc7d152"
   },
   "outputs": [
    {
     "data": {
      "text/plain": [
       "array([[[[  0,   0,   0],\n",
       "         [  0,   0,   0],\n",
       "         [  0,   0,   0],\n",
       "         ...,\n",
       "         [  0,   0,   0],\n",
       "         [  0,   0,   0],\n",
       "         [  0,   0,   0]],\n",
       "\n",
       "        [[255, 255, 255],\n",
       "         [ 42,  42,  42],\n",
       "         [  0,   0,   0],\n",
       "         ...,\n",
       "         [  0,   0,   0],\n",
       "         [  0,   0,   0],\n",
       "         [  0,   0,   0]],\n",
       "\n",
       "        [[255, 255, 255],\n",
       "         [255, 255, 255],\n",
       "         [255, 255, 255],\n",
       "         ...,\n",
       "         [  0,   0,   0],\n",
       "         [  0,   0,   0],\n",
       "         [  0,   0,   0]],\n",
       "\n",
       "        ...,\n",
       "\n",
       "        [[  0,   0,   0],\n",
       "         [  0,   0,   0],\n",
       "         [  0,   0,   0],\n",
       "         ...,\n",
       "         [  0,   0,   0],\n",
       "         [  0,   0,   0],\n",
       "         [  0,   0,   0]],\n",
       "\n",
       "        [[  0,   0,   0],\n",
       "         [  0,   0,   0],\n",
       "         [  0,   0,   0],\n",
       "         ...,\n",
       "         [  0,   0,   0],\n",
       "         [  0,   0,   0],\n",
       "         [  0,   0,   0]],\n",
       "\n",
       "        [[  0,   0,   0],\n",
       "         [  0,   0,   0],\n",
       "         [  0,   0,   0],\n",
       "         ...,\n",
       "         [  0,   0,   0],\n",
       "         [  0,   0,   0],\n",
       "         [  0,   0,   0]]],\n",
       "\n",
       "\n",
       "       [[[  0,   0,   0],\n",
       "         [  0,   0,   0],\n",
       "         [  0,   0,   0],\n",
       "         ...,\n",
       "         [  0,   0,   0],\n",
       "         [  0,   0,   0],\n",
       "         [  0,   0,   0]],\n",
       "\n",
       "        [[  0,   0,   0],\n",
       "         [  0,   0,   0],\n",
       "         [  0,   0,   0],\n",
       "         ...,\n",
       "         [  0,   0,   0],\n",
       "         [  0,   0,   0],\n",
       "         [  0,   0,   0]],\n",
       "\n",
       "        [[  0,   0,   0],\n",
       "         [  0,   0,   0],\n",
       "         [  0,   0,   0],\n",
       "         ...,\n",
       "         [  0,   0,   0],\n",
       "         [  0,   0,   0],\n",
       "         [  0,   0,   0]],\n",
       "\n",
       "        ...,\n",
       "\n",
       "        [[  0,   0,   0],\n",
       "         [  0,   0,   0],\n",
       "         [  0,   0,   0],\n",
       "         ...,\n",
       "         [  0,   0,   0],\n",
       "         [  0,   0,   0],\n",
       "         [  0,   0,   0]],\n",
       "\n",
       "        [[  0,   0,   0],\n",
       "         [  0,   0,   0],\n",
       "         [  0,   0,   0],\n",
       "         ...,\n",
       "         [  0,   0,   0],\n",
       "         [  0,   0,   0],\n",
       "         [  0,   0,   0]],\n",
       "\n",
       "        [[  0,   0,   0],\n",
       "         [  0,   0,   0],\n",
       "         [  0,   0,   0],\n",
       "         ...,\n",
       "         [  0,   0,   0],\n",
       "         [  0,   0,   0],\n",
       "         [  0,   0,   0]]],\n",
       "\n",
       "\n",
       "       [[[  0,   0,   0],\n",
       "         [  0,   0,   0],\n",
       "         [  0,   0,   0],\n",
       "         ...,\n",
       "         [  0,   0,   0],\n",
       "         [  0,   0,   0],\n",
       "         [  0,   0,   0]],\n",
       "\n",
       "        [[  0,   0,   0],\n",
       "         [  0,   0,   0],\n",
       "         [  0,   0,   0],\n",
       "         ...,\n",
       "         [  0,   0,   0],\n",
       "         [  0,   0,   0],\n",
       "         [  0,   0,   0]],\n",
       "\n",
       "        [[  0,   0,   0],\n",
       "         [  0,   0,   0],\n",
       "         [  0,   0,   0],\n",
       "         ...,\n",
       "         [  0,   0,   0],\n",
       "         [  0,   0,   0],\n",
       "         [  0,   0,   0]],\n",
       "\n",
       "        ...,\n",
       "\n",
       "        [[  0,   0,   0],\n",
       "         [  0,   0,   0],\n",
       "         [  0,   0,   0],\n",
       "         ...,\n",
       "         [  0,   0,   0],\n",
       "         [  0,   0,   0],\n",
       "         [  0,   0,   0]],\n",
       "\n",
       "        [[  0,   0,   0],\n",
       "         [  0,   0,   0],\n",
       "         [  0,   0,   0],\n",
       "         ...,\n",
       "         [  0,   0,   0],\n",
       "         [  0,   0,   0],\n",
       "         [  0,   0,   0]],\n",
       "\n",
       "        [[  0,   0,   0],\n",
       "         [  0,   0,   0],\n",
       "         [  0,   0,   0],\n",
       "         ...,\n",
       "         [  0,   0,   0],\n",
       "         [  0,   0,   0],\n",
       "         [  0,   0,   0]]],\n",
       "\n",
       "\n",
       "       ...,\n",
       "\n",
       "\n",
       "       [[[  0,   0,   0],\n",
       "         [  0,   0,   0],\n",
       "         [  0,   0,   0],\n",
       "         ...,\n",
       "         [  0,   0,   0],\n",
       "         [  0,   0,   0],\n",
       "         [  0,   0,   0]],\n",
       "\n",
       "        [[  0,   0,   0],\n",
       "         [  0,   0,   0],\n",
       "         [  0,   0,   0],\n",
       "         ...,\n",
       "         [  0,   0,   0],\n",
       "         [  0,   0,   0],\n",
       "         [  0,   0,   0]],\n",
       "\n",
       "        [[  0,   0,   0],\n",
       "         [  0,   0,   0],\n",
       "         [  0,   0,   0],\n",
       "         ...,\n",
       "         [191, 191, 191],\n",
       "         [  0,   0,   0],\n",
       "         [  0,   0,   0]],\n",
       "\n",
       "        ...,\n",
       "\n",
       "        [[  0,   0,   0],\n",
       "         [  0,   0,   0],\n",
       "         [  0,   0,   0],\n",
       "         ...,\n",
       "         [  0,   0,   0],\n",
       "         [  0,   0,   0],\n",
       "         [  0,   0,   0]],\n",
       "\n",
       "        [[  0,   0,   0],\n",
       "         [  0,   0,   0],\n",
       "         [  0,   0,   0],\n",
       "         ...,\n",
       "         [  0,   0,   0],\n",
       "         [  0,   0,   0],\n",
       "         [  0,   0,   0]],\n",
       "\n",
       "        [[  0,   0,   0],\n",
       "         [  0,   0,   0],\n",
       "         [  0,   0,   0],\n",
       "         ...,\n",
       "         [  0,   0,   0],\n",
       "         [  0,   0,   0],\n",
       "         [  0,   0,   0]]],\n",
       "\n",
       "\n",
       "       [[[  0,   0,   0],\n",
       "         [  0,   0,   0],\n",
       "         [  0,   0,   0],\n",
       "         ...,\n",
       "         [  0,   0,   0],\n",
       "         [  0,   0,   0],\n",
       "         [  0,   0,   0]],\n",
       "\n",
       "        [[  0,   0,   0],\n",
       "         [  0,   0,   0],\n",
       "         [  0,   0,   0],\n",
       "         ...,\n",
       "         [204, 204, 204],\n",
       "         [  0,   0,   0],\n",
       "         [  0,   0,   0]],\n",
       "\n",
       "        [[  0,   0,   0],\n",
       "         [  0,   0,   0],\n",
       "         [  0,   0,   0],\n",
       "         ...,\n",
       "         [255, 255, 255],\n",
       "         [  0,   0,   0],\n",
       "         [  0,   0,   0]],\n",
       "\n",
       "        ...,\n",
       "\n",
       "        [[  0,   0,   0],\n",
       "         [  0,   0,   0],\n",
       "         [  0,   0,   0],\n",
       "         ...,\n",
       "         [  0,   0,   0],\n",
       "         [  0,   0,   0],\n",
       "         [  0,   0,   0]],\n",
       "\n",
       "        [[  0,   0,   0],\n",
       "         [  0,   0,   0],\n",
       "         [  0,   0,   0],\n",
       "         ...,\n",
       "         [  0,   0,   0],\n",
       "         [  0,   0,   0],\n",
       "         [  0,   0,   0]],\n",
       "\n",
       "        [[  0,   0,   0],\n",
       "         [  0,   0,   0],\n",
       "         [  0,   0,   0],\n",
       "         ...,\n",
       "         [  0,   0,   0],\n",
       "         [  0,   0,   0],\n",
       "         [  0,   0,   0]]],\n",
       "\n",
       "\n",
       "       [[[  0,   0,   0],\n",
       "         [  0,   0,   0],\n",
       "         [255, 255, 255],\n",
       "         ...,\n",
       "         [  0,   0,   0],\n",
       "         [  0,   0,   0],\n",
       "         [  0,   0,   0]],\n",
       "\n",
       "        [[  0,   0,   0],\n",
       "         [232, 232, 232],\n",
       "         [255, 255, 255],\n",
       "         ...,\n",
       "         [  0,   0,   0],\n",
       "         [  0,   0,   0],\n",
       "         [  0,   0,   0]],\n",
       "\n",
       "        [[  0,   0,   0],\n",
       "         [255, 255, 255],\n",
       "         [255, 255, 255],\n",
       "         ...,\n",
       "         [  0,   0,   0],\n",
       "         [  0,   0,   0],\n",
       "         [  0,   0,   0]],\n",
       "\n",
       "        ...,\n",
       "\n",
       "        [[  0,   0,   0],\n",
       "         [  0,   0,   0],\n",
       "         [  0,   0,   0],\n",
       "         ...,\n",
       "         [255, 255, 255],\n",
       "         [  0,   0,   0],\n",
       "         [  0,   0,   0]],\n",
       "\n",
       "        [[  0,   0,   0],\n",
       "         [  0,   0,   0],\n",
       "         [  0,   0,   0],\n",
       "         ...,\n",
       "         [244, 244, 244],\n",
       "         [  0,   0,   0],\n",
       "         [  0,   0,   0]],\n",
       "\n",
       "        [[  0,   0,   0],\n",
       "         [  0,   0,   0],\n",
       "         [  0,   0,   0],\n",
       "         ...,\n",
       "         [  0,   0,   0],\n",
       "         [  0,   0,   0],\n",
       "         [  0,   0,   0]]]], dtype=uint8)"
      ]
     },
     "execution_count": 23,
     "metadata": {},
     "output_type": "execute_result"
    }
   ],
   "source": [
    "x_train"
   ]
  },
  {
   "cell_type": "code",
   "execution_count": 24,
   "metadata": {
    "colab": {
     "base_uri": "https://localhost:8080/",
     "height": 350
    },
    "id": "Tw5BmhNTOAfm",
    "outputId": "959c3361-49d5-482f-e34c-fc635b1f7cc5"
   },
   "outputs": [
    {
     "data": {
      "image/png": "[encoded data removed]",
      "text/plain": [
       "<Figure size 720x360 with 1 Axes>"
      ]
     },
     "metadata": {
      "needs_background": "light"
     },
     "output_type": "display_data"
    }
   ],
   "source": [
    "numOfSample=[]\n",
    "\n",
    "for x in range(0,numOfClasses):\n",
    "\tnumOfSample.append(len(np.where(y_train==x)[0]))\n",
    "\n",
    "\n",
    "plt.figure(figsize=(10,5))\n",
    "plt.bar(range(0, numOfClasses),numOfSample)\n",
    "plt.title(\"Bar Plot of Classes & Images\")\n",
    "plt.xlabel(\"No Of Classes\")\n",
    "plt.ylabel(\"No of Images\")\n",
    "plt.show()"
   ]
  },
  {
   "cell_type": "code",
   "execution_count": 25,
   "metadata": {
    "id": "nRU1Uy_1OAfn"
   },
   "outputs": [],
   "source": [
    "def preprocessing(img):\n",
    "\t# img=np.astype(\"uint8\")\n",
    "\timg=cv2.cvtColor(img, cv2.COLOR_BGR2GRAY)\n",
    "\t_, img = cv2.threshold(img, 170, 255, cv2.THRESH_BINARY)\n",
    "\timg=cv2.equalizeHist(img)\n",
    "\timg=img/255\n",
    "\treturn img\n",
    "\n",
    "\n",
    "x_train=np.array(list(map(preprocessing, x_train)))\n",
    "x_test=np.array(list(map(preprocessing, x_test)))\n",
    "x_validation=np.array(list(map(preprocessing, x_validation)))"
   ]
  },
  {
   "cell_type": "code",
   "execution_count": 26,
   "metadata": {
    "colab": {
     "base_uri": "https://localhost:8080/",
     "height": 916
    },
    "id": "PPQWLfGreZU3",
    "outputId": "a9c6c43b-faa5-4917-d0ea-fea39bbe61ef"
   },
   "outputs": [
    {
     "data": {
      "image/png": "[encoded data removed]",
      "text/plain": [
       "<Figure size 1152x1152 with 16 Axes>"
      ]
     },
     "metadata": {
      "needs_background": "light"
     },
     "output_type": "display_data"
    }
   ],
   "source": [
    "\n",
    "def plotImagesAndLabels():\n",
    "    t_x, t_y = x_train, y_train\n",
    "    fig, m_axs = plt.subplots(4, 4, figsize = (16, 16))\n",
    "    for (c_x, c_y, c_ax) in zip(t_x, t_y, m_axs.flatten()):\n",
    "        c_ax.imshow(c_x[:,:], cmap = 'bone', vmin = -1.5, vmax = 1.5)\n",
    "        c_ax.set_title(', '+str(c_y))\n",
    "        c_ax.axis('off')\n",
    "plotImagesAndLabels()"
   ]
  },
  {
   "cell_type": "code",
   "execution_count": null,
   "metadata": {
    "id": "K_62YcMBf0f0"
   },
   "outputs": [],
   "source": []
  },
  {
   "cell_type": "code",
   "execution_count": 27,
   "metadata": {
    "id": "wjz8nufbOAfp"
   },
   "outputs": [],
   "source": [
    "\n",
    "x_train=x_train.reshape(x_train.shape[0], x_train.shape[1], x_train.shape[2],1)\n",
    "x_test=x_test.reshape(x_test.shape[0], x_test.shape[1], x_test.shape[2],1)\n",
    "x_validation=x_validation.reshape(x_validation.shape[0], x_validation.shape[1], x_validation.shape[2],1)\n",
    "\n",
    "\n",
    "dataGen=ImageDataGenerator(\n",
    "\twidth_shift_range=0.1,\n",
    "\theight_shift_range=0.1,\n",
    "\tzoom_range=0.2,\n",
    "\tshear_range=0.1,\n",
    "\trotation_range=10)\n",
    "\n",
    "dataGen.fit(x_train)\n",
    "\n",
    "y_train=to_categorical(y_train, numOfClasses)\n",
    "y_test=to_categorical(y_test, numOfClasses)\n",
    "y_validation=to_categorical(y_validation, numOfClasses)\n"
   ]
  },
  {
   "cell_type": "code",
   "execution_count": 28,
   "metadata": {},
   "outputs": [
    {
     "name": "stdout",
     "output_type": "stream",
     "text": [
      "Total number of training images:  12638\n",
      "total number of test images: 3950\n",
      "total number of validition images: 3160\n",
      "total number in the datasets images: 19748\n"
     ]
    }
   ],
   "source": [
    "import pandas as pd  \n",
    "\n",
    "print(\"Total number of training images: \",len(x_train))\n",
    "\n",
    "# make train_image_names as serie object\n",
    "#x_train = pd.Series(x_train)\n",
    "\n",
    "print(\"total number of test images:\",len(x_test))\n",
    "print(\"total number of validition images:\",len(x_validation))\n",
    "\n",
    "print(\"total number in the datasets images:\",len(images))"
   ]
  },
  {
   "cell_type": "code",
   "execution_count": 29,
   "metadata": {
    "id": "xj7yGn78YeGT"
   },
   "outputs": [],
   "source": [
    "def model():\n",
    "  # building a linear stack of layers with the sequential model\n",
    "  model = Sequential()\n",
    "\n",
    "  # convolutional layer\n",
    "  model.add(Conv2D(32, kernel_size=(5,5), padding='same', activation='relu', input_shape=(28, 28, 1)))\n",
    "\n",
    "  # convolutional layer 2\n",
    "  model.add(Conv2D(32, kernel_size=(5,5), padding='same', activation='relu'))\n",
    "  model.add(MaxPool2D(pool_size=(2,2)))\n",
    "  model.add(Dropout(0.5))\n",
    "  #convolution layer 3\n",
    "  model.add(Conv2D(64, kernel_size=(3,3), padding='same', activation='relu'))\n",
    "  model.add(Conv2D(64, kernel_size=(3,3), padding='same', activation='relu'))\n",
    "  model.add(MaxPool2D(pool_size=(2,2)))\n",
    "  model.add(Dropout(0.5))\n",
    "\n",
    "  # flatten output of conv\n",
    "  model.add(Flatten())\n",
    "\n",
    "  # hidden layer\n",
    "  model.add(Dense(256, activation='relu'))\n",
    "  model.add(Dropout(0.25))\n",
    "  # output layer\n",
    "  model.add(Dense(10, activation='softmax'))\n",
    "  model.compile(Adam(lr=0.001),loss='categorical_crossentropy',metrics=['accuracy'])\n",
    "  return model\n",
    "\n",
    "model = model()\n"
   ]
  },
  {
   "cell_type": "code",
   "execution_count": 30,
   "metadata": {},
   "outputs": [
    {
     "name": "stdout",
     "output_type": "stream",
     "text": [
      "Model: \"sequential\"\n",
      "_________________________________________________________________\n",
      " Layer (type)                Output Shape              Param #   \n",
      "=================================================================\n",
      " conv2d (Conv2D)             (None, 28, 28, 32)        832       \n",
      "                                                                 \n",
      " conv2d_1 (Conv2D)           (None, 28, 28, 32)        25632     \n",
      "                                                                 \n",
      " max_pooling2d (MaxPooling2D  (None, 14, 14, 32)       0         \n",
      " )                                                               \n",
      "                                                                 \n",
      " dropout (Dropout)           (None, 14, 14, 32)        0         \n",
      "                                                                 \n",
      " conv2d_2 (Conv2D)           (None, 14, 14, 64)        18496     \n",
      "                                                                 \n",
      " conv2d_3 (Conv2D)           (None, 14, 14, 64)        36928     \n",
      "                                                                 \n",
      " max_pooling2d_1 (MaxPooling  (None, 7, 7, 64)         0         \n",
      " 2D)                                                             \n",
      "                                                                 \n",
      " dropout_1 (Dropout)         (None, 7, 7, 64)          0         \n",
      "                                                                 \n",
      " flatten (Flatten)           (None, 3136)              0         \n",
      "                                                                 \n",
      " dense (Dense)               (None, 256)               803072    \n",
      "                                                                 \n",
      " dropout_2 (Dropout)         (None, 256)               0         \n",
      "                                                                 \n",
      " dense_1 (Dense)             (None, 10)                2570      \n",
      "                                                                 \n",
      "=================================================================\n",
      "Total params: 887,530\n",
      "Trainable params: 887,530\n",
      "Non-trainable params: 0\n",
      "_________________________________________________________________\n"
     ]
    }
   ],
   "source": [
    "model.summary()"
   ]
  },
  {
   "cell_type": "code",
   "execution_count": 31,
   "metadata": {
    "colab": {
     "base_uri": "https://localhost:8080/"
    },
    "id": "rU34ic3bOAfs",
    "outputId": "73a0f03d-5154-49f5-deb5-7e9a0246f2eb"
   },
   "outputs": [
    {
     "name": "stdout",
     "output_type": "stream",
     "text": [
      "Epoch 1/50\n",
      "146/146 [==============================] - 54s 361ms/step - loss: 0.8816 - accuracy: 0.7040 - val_loss: 0.2444 - val_accuracy: 0.9237\n",
      "Epoch 2/50\n",
      "146/146 [==============================] - 52s 357ms/step - loss: 0.3962 - accuracy: 0.8699 - val_loss: 0.1691 - val_accuracy: 0.9484\n",
      "Epoch 3/50\n",
      "146/146 [==============================] - 52s 355ms/step - loss: 0.3153 - accuracy: 0.8978 - val_loss: 0.1418 - val_accuracy: 0.9585\n",
      "Epoch 4/50\n",
      "146/146 [==============================] - 52s 358ms/step - loss: 0.2654 - accuracy: 0.9136 - val_loss: 0.1298 - val_accuracy: 0.9620\n",
      "Epoch 5/50\n",
      "146/146 [==============================] - 53s 363ms/step - loss: 0.2432 - accuracy: 0.9200 - val_loss: 0.1177 - val_accuracy: 0.9646\n",
      "Epoch 6/50\n",
      "146/146 [==============================] - 53s 364ms/step - loss: 0.2170 - accuracy: 0.9308 - val_loss: 0.1038 - val_accuracy: 0.9706\n",
      "Epoch 7/50\n",
      "146/146 [==============================] - 55s 377ms/step - loss: 0.2046 - accuracy: 0.9352 - val_loss: 0.1107 - val_accuracy: 0.9690\n",
      "Epoch 8/50\n",
      "146/146 [==============================] - 52s 355ms/step - loss: 0.1882 - accuracy: 0.9387 - val_loss: 0.1078 - val_accuracy: 0.9693\n",
      "Epoch 9/50\n",
      "146/146 [==============================] - 51s 352ms/step - loss: 0.1773 - accuracy: 0.9438 - val_loss: 0.0931 - val_accuracy: 0.9715\n",
      "Epoch 10/50\n",
      "146/146 [==============================] - 51s 352ms/step - loss: 0.1614 - accuracy: 0.9454 - val_loss: 0.1021 - val_accuracy: 0.9706\n",
      "Epoch 11/50\n",
      "146/146 [==============================] - 51s 352ms/step - loss: 0.1632 - accuracy: 0.9481 - val_loss: 0.0891 - val_accuracy: 0.9712\n",
      "Epoch 12/50\n",
      "146/146 [==============================] - 53s 365ms/step - loss: 0.1568 - accuracy: 0.9516 - val_loss: 0.0889 - val_accuracy: 0.9741\n",
      "Epoch 13/50\n",
      "146/146 [==============================] - 56s 384ms/step - loss: 0.1428 - accuracy: 0.9553 - val_loss: 0.0929 - val_accuracy: 0.9712\n",
      "Epoch 14/50\n",
      "146/146 [==============================] - 55s 376ms/step - loss: 0.1320 - accuracy: 0.9567 - val_loss: 0.0929 - val_accuracy: 0.9722\n",
      "Epoch 15/50\n",
      "146/146 [==============================] - 54s 367ms/step - loss: 0.1300 - accuracy: 0.9580 - val_loss: 0.0804 - val_accuracy: 0.9778\n",
      "Epoch 16/50\n",
      "146/146 [==============================] - 52s 357ms/step - loss: 0.1255 - accuracy: 0.9594 - val_loss: 0.0866 - val_accuracy: 0.9753\n",
      "Epoch 17/50\n",
      "146/146 [==============================] - 65s 448ms/step - loss: 0.1314 - accuracy: 0.9591 - val_loss: 0.0950 - val_accuracy: 0.9725\n",
      "Epoch 18/50\n",
      "146/146 [==============================] - 55s 379ms/step - loss: 0.1247 - accuracy: 0.9598 - val_loss: 0.0898 - val_accuracy: 0.9734\n",
      "Epoch 19/50\n",
      "146/146 [==============================] - 55s 376ms/step - loss: 0.1144 - accuracy: 0.9633 - val_loss: 0.0758 - val_accuracy: 0.9759\n",
      "Epoch 20/50\n",
      "146/146 [==============================] - 56s 382ms/step - loss: 0.1126 - accuracy: 0.9651 - val_loss: 0.0841 - val_accuracy: 0.9741\n",
      "Epoch 21/50\n",
      "146/146 [==============================] - 58s 397ms/step - loss: 0.1152 - accuracy: 0.9635 - val_loss: 0.0907 - val_accuracy: 0.9737\n",
      "Epoch 22/50\n",
      "146/146 [==============================] - 57s 387ms/step - loss: 0.1052 - accuracy: 0.9658 - val_loss: 0.0773 - val_accuracy: 0.9775\n",
      "Epoch 23/50\n",
      "146/146 [==============================] - 53s 364ms/step - loss: 0.1217 - accuracy: 0.9610 - val_loss: 0.0754 - val_accuracy: 0.9775\n",
      "Epoch 24/50\n",
      "146/146 [==============================] - 54s 372ms/step - loss: 0.1100 - accuracy: 0.9631 - val_loss: 0.0805 - val_accuracy: 0.9769\n",
      "Epoch 25/50\n",
      "146/146 [==============================] - 57s 392ms/step - loss: 0.1077 - accuracy: 0.9666 - val_loss: 0.0743 - val_accuracy: 0.9785\n",
      "Epoch 26/50\n",
      "146/146 [==============================] - 61s 419ms/step - loss: 0.1049 - accuracy: 0.9661 - val_loss: 0.0665 - val_accuracy: 0.9804\n",
      "Epoch 27/50\n",
      "146/146 [==============================] - 57s 390ms/step - loss: 0.0952 - accuracy: 0.9703 - val_loss: 0.0854 - val_accuracy: 0.9756\n",
      "Epoch 28/50\n",
      "146/146 [==============================] - 56s 384ms/step - loss: 0.1023 - accuracy: 0.9676 - val_loss: 0.0774 - val_accuracy: 0.9788\n",
      "Epoch 29/50\n",
      "146/146 [==============================] - 56s 386ms/step - loss: 0.0956 - accuracy: 0.9685 - val_loss: 0.0750 - val_accuracy: 0.9782\n",
      "Epoch 30/50\n",
      "146/146 [==============================] - 53s 360ms/step - loss: 0.0995 - accuracy: 0.9691 - val_loss: 0.0743 - val_accuracy: 0.9797\n",
      "Epoch 31/50\n",
      "146/146 [==============================] - 51s 352ms/step - loss: 0.0884 - accuracy: 0.9708 - val_loss: 0.0701 - val_accuracy: 0.9797\n",
      "Epoch 32/50\n",
      "146/146 [==============================] - 52s 353ms/step - loss: 0.0960 - accuracy: 0.9696 - val_loss: 0.0737 - val_accuracy: 0.9788\n",
      "Epoch 33/50\n",
      "146/146 [==============================] - 53s 360ms/step - loss: 0.0958 - accuracy: 0.9696 - val_loss: 0.0750 - val_accuracy: 0.9782\n",
      "Epoch 34/50\n",
      "146/146 [==============================] - 54s 373ms/step - loss: 0.0880 - accuracy: 0.9706 - val_loss: 0.0757 - val_accuracy: 0.9794\n",
      "Epoch 35/50\n",
      "146/146 [==============================] - 55s 377ms/step - loss: 0.0889 - accuracy: 0.9729 - val_loss: 0.0811 - val_accuracy: 0.9769\n",
      "Epoch 36/50\n",
      "146/146 [==============================] - 54s 370ms/step - loss: 0.0860 - accuracy: 0.9716 - val_loss: 0.0751 - val_accuracy: 0.9778\n",
      "Epoch 37/50\n",
      "146/146 [==============================] - 56s 385ms/step - loss: 0.0845 - accuracy: 0.9724 - val_loss: 0.0722 - val_accuracy: 0.9804\n",
      "Epoch 38/50\n",
      "146/146 [==============================] - 60s 410ms/step - loss: 0.0852 - accuracy: 0.9728 - val_loss: 0.0721 - val_accuracy: 0.9772\n",
      "Epoch 39/50\n",
      "146/146 [==============================] - 66s 453ms/step - loss: 0.0813 - accuracy: 0.9747 - val_loss: 0.0738 - val_accuracy: 0.9785\n",
      "Epoch 40/50\n",
      "146/146 [==============================] - 52s 357ms/step - loss: 0.0795 - accuracy: 0.9743 - val_loss: 0.0865 - val_accuracy: 0.9794\n",
      "Epoch 41/50\n",
      "146/146 [==============================] - 52s 358ms/step - loss: 0.0824 - accuracy: 0.9734 - val_loss: 0.0681 - val_accuracy: 0.9813\n",
      "Epoch 42/50\n",
      "146/146 [==============================] - 52s 354ms/step - loss: 0.0809 - accuracy: 0.9721 - val_loss: 0.0694 - val_accuracy: 0.9832\n",
      "Epoch 43/50\n",
      "146/146 [==============================] - 52s 353ms/step - loss: 0.0708 - accuracy: 0.9763 - val_loss: 0.0743 - val_accuracy: 0.9832\n",
      "Epoch 44/50\n",
      "146/146 [==============================] - 55s 375ms/step - loss: 0.0764 - accuracy: 0.9739 - val_loss: 0.0730 - val_accuracy: 0.9839\n",
      "Epoch 45/50\n",
      "146/146 [==============================] - 57s 390ms/step - loss: 0.0741 - accuracy: 0.9762 - val_loss: 0.0758 - val_accuracy: 0.9794\n",
      "Epoch 46/50\n",
      "146/146 [==============================] - 52s 359ms/step - loss: 0.0711 - accuracy: 0.9764 - val_loss: 0.0753 - val_accuracy: 0.9816\n",
      "Epoch 47/50\n",
      "146/146 [==============================] - 53s 365ms/step - loss: 0.0809 - accuracy: 0.9736 - val_loss: 0.0736 - val_accuracy: 0.9804\n",
      "Epoch 48/50\n",
      "146/146 [==============================] - 60s 415ms/step - loss: 0.0822 - accuracy: 0.9737 - val_loss: 0.0756 - val_accuracy: 0.9782\n",
      "Epoch 49/50\n",
      "146/146 [==============================] - 67s 460ms/step - loss: 0.0736 - accuracy: 0.9769 - val_loss: 0.0915 - val_accuracy: 0.9763\n",
      "Epoch 50/50\n",
      "146/146 [==============================] - 65s 442ms/step - loss: 0.0729 - accuracy: 0.9749 - val_loss: 0.0817 - val_accuracy: 0.9788\n"
     ]
    }
   ],
   "source": [
    "history=model.fit_generator(dataGen.flow(x_train, y_train,batch_size=86),\n",
    "\tsteps_per_epoch=len(x_train)//86,\n",
    "\tepochs=50,\n",
    "\tvalidation_data=(x_validation,y_validation),\n",
    "\tshuffle=1)\n",
    "\n",
    "#model.save(\"MathNNet.h5\")"
   ]
  },
  {
   "cell_type": "code",
   "execution_count": 32,
   "metadata": {
    "colab": {
     "base_uri": "https://localhost:8080/",
     "height": 325
    },
    "id": "_s-QOx5-X1BH",
    "outputId": "771d8859-0646-4b81-cc51-6d1ff981c038"
   },
   "outputs": [
    {
     "name": "stdout",
     "output_type": "stream",
     "text": [
      "(399, 28, 28, 1)\n"
     ]
    },
    {
     "data": {
      "image/png": "[encoded data removed]",
      "text/plain": [
       "<Figure size 432x288 with 2 Axes>"
      ]
     },
     "metadata": {
      "needs_background": "light"
     },
     "output_type": "display_data"
    },
    {
     "name": "stdout",
     "output_type": "stream",
     "text": [
      "0.9849624060150376\n"
     ]
    }
   ],
   "source": [
    "from sklearn.metrics import confusion_matrix\n",
    "\n",
    "check_class = 3\n",
    "class_x_test = []\n",
    "class_y_test = []\n",
    "temp = np.argmax(y_test,axis=1)\n",
    "for i, x in enumerate(temp):\n",
    "  if x == check_class:\n",
    "    for j, y in enumerate(x_test):\n",
    "      if j == i:\n",
    "        class_x_test.append(y)\n",
    "    class_y_test.append(check_class)\n",
    "\n",
    "class_x_test = np.asarray(class_x_test)\n",
    "# class wise accuracy\n",
    "print(class_x_test.shape)\n",
    "class_y_pred = model.predict(class_x_test)\n",
    "class_y_pred = np.argmax(class_y_pred,axis=1)\n",
    "\n",
    "labels = list(set(class_y_pred))\n",
    "cm = confusion_matrix(class_y_test, class_y_pred)\n",
    "fig = plt.figure()\n",
    "ax = fig.add_subplot(111)\n",
    "cax = ax.matshow(cm)\n",
    "plt.title('Confusion matrix of the classifier')\n",
    "fig.colorbar(cax)\n",
    "ax.set_xticklabels([''] + labels)\n",
    "ax.set_yticklabels([''] + labels)\n",
    "plt.xlabel('Predicted')\n",
    "plt.ylabel('True')\n",
    "plt.show()\n",
    "\n",
    "from sklearn.metrics import accuracy_score\n",
    "acc = accuracy_score(class_y_test, class_y_pred)\n",
    "print(acc)"
   ]
  },
  {
   "cell_type": "code",
   "execution_count": 33,
   "metadata": {
    "id": "3cpp-U8tOAft"
   },
   "outputs": [],
   "source": [
    "y_pred = model.predict(x_test)"
   ]
  },
  {
   "cell_type": "code",
   "execution_count": 34,
   "metadata": {
    "colab": {
     "base_uri": "https://localhost:8080/"
    },
    "id": "8BHvuQpqQp4K",
    "outputId": "932262d0-3049-4894-a418-9ee76f16abdb"
   },
   "outputs": [
    {
     "data": {
      "text/plain": [
       "array([2, 4, 3, ..., 2, 8, 4], dtype=int64)"
      ]
     },
     "execution_count": 34,
     "metadata": {},
     "output_type": "execute_result"
    }
   ],
   "source": [
    "y_pred_t = np.argmax(y_pred,axis=1)\n",
    "y_pred_t"
   ]
  },
  {
   "cell_type": "code",
   "execution_count": 35,
   "metadata": {
    "colab": {
     "base_uri": "https://localhost:8080/"
    },
    "id": "1V_Qpmz3QzD4",
    "outputId": "cbed880f-cc31-47c9-ed97-c6009a042160"
   },
   "outputs": [
    {
     "data": {
      "text/plain": [
       "array([2, 4, 3, ..., 2, 8, 4], dtype=int64)"
      ]
     },
     "execution_count": 35,
     "metadata": {},
     "output_type": "execute_result"
    }
   ],
   "source": [
    "y_test_t = np.argmax(y_test,axis=1)\n",
    "y_test_t"
   ]
  },
  {
   "cell_type": "code",
   "execution_count": 36,
   "metadata": {
    "id": "9NYBvmM1Qa52"
   },
   "outputs": [],
   "source": [
    "from sklearn.metrics import confusion_matrix\n",
    "conf_mat = confusion_matrix(y_test_t, y_pred_t)"
   ]
  },
  {
   "cell_type": "code",
   "execution_count": 37,
   "metadata": {
    "colab": {
     "base_uri": "https://localhost:8080/"
    },
    "id": "ZX2AdlHLROjm",
    "outputId": "a2bd7929-7ab2-4ec8-d807-9bf19bdc9da8"
   },
   "outputs": [
    {
     "data": {
      "text/plain": [
       "array([[395,   1,   1,   3,   0,   3,   0,   1,   0,   0],\n",
       "       [  0, 382,   3,   0,   0,   0,   0,   0,   0,   4],\n",
       "       [  0,   0, 382,   0,   0,   1,   0,   0,   3,   0],\n",
       "       [  4,   0,   0, 393,   0,   1,   1,   0,   0,   0],\n",
       "       [  0,   0,   0,   0, 357,   2,   0,   1,   0,   1],\n",
       "       [  0,   2,   0,   3,   0, 420,   0,   0,   0,   0],\n",
       "       [  0,   0,   0,   1,   0,  16, 365,   0,   0,   0],\n",
       "       [  1,   0,   1,   0,   1,   1,   0, 426,   0,   0],\n",
       "       [  0,   0,   0,   0,   0,   1,   1,   1, 388,   0],\n",
       "       [  0,   1,   1,   0,   0,   0,   0,   0,   0, 381]], dtype=int64)"
      ]
     },
     "execution_count": 37,
     "metadata": {},
     "output_type": "execute_result"
    }
   ],
   "source": [
    "conf_mat"
   ]
  },
  {
   "cell_type": "code",
   "execution_count": 38,
   "metadata": {},
   "outputs": [
    {
     "data": {
      "text/plain": [
       "array([3, 3, 8, ..., 4, 4, 9], dtype=int64)"
      ]
     },
     "execution_count": 38,
     "metadata": {},
     "output_type": "execute_result"
    }
   ],
   "source": [
    "#train accuracy\n",
    "y_pred_train = model.predict(x_train)\n",
    "\n",
    "y_pred_train_acc = np.argmax(y_pred_train,axis=1)\n",
    "y_pred_train_acc\n",
    "\n",
    "y_test_train = np.argmax(y_train,axis=1)\n",
    "y_test_train"
   ]
  },
  {
   "cell_type": "code",
   "execution_count": 39,
   "metadata": {},
   "outputs": [
    {
     "data": {
      "text/plain": [
       "0.9978635860104447"
      ]
     },
     "execution_count": 39,
     "metadata": {},
     "output_type": "execute_result"
    }
   ],
   "source": [
    "#train accuracy\n",
    "from sklearn.metrics import accuracy_score\n",
    "acc = accuracy_score(y_test_train,y_pred_train_acc)\n",
    "acc"
   ]
  },
  {
   "cell_type": "code",
   "execution_count": 40,
   "metadata": {},
   "outputs": [
    {
     "data": {
      "text/plain": [
       "array([1, 0, 6, ..., 9, 1, 7], dtype=int64)"
      ]
     },
     "execution_count": 40,
     "metadata": {},
     "output_type": "execute_result"
    }
   ],
   "source": [
    "#validation accuracy\n",
    "y_pred_val = model.predict(x_validation)\n",
    "\n",
    "y_pred_val_acc = np.argmax(y_pred_val,axis=1)\n",
    "y_pred_val_acc\n",
    "\n",
    "y_test_validation = np.argmax(y_validation,axis=1)\n",
    "y_test_validation"
   ]
  },
  {
   "cell_type": "code",
   "execution_count": 41,
   "metadata": {},
   "outputs": [
    {
     "data": {
      "text/plain": [
       "0.9787974683544304"
      ]
     },
     "execution_count": 41,
     "metadata": {},
     "output_type": "execute_result"
    }
   ],
   "source": [
    "#validation accuracy\n",
    "from sklearn.metrics import accuracy_score\n",
    "acc = accuracy_score(y_test_validation,y_pred_val_acc)\n",
    "acc"
   ]
  },
  {
   "cell_type": "code",
   "execution_count": 42,
   "metadata": {
    "colab": {
     "base_uri": "https://localhost:8080/"
    },
    "id": "ddIPvIlURoQl",
    "outputId": "1b4c9ccf-d8df-4342-ad8c-3c3ef1b7d710"
   },
   "outputs": [
    {
     "data": {
      "text/plain": [
       "0.9845569620253165"
      ]
     },
     "execution_count": 42,
     "metadata": {},
     "output_type": "execute_result"
    }
   ],
   "source": [
    "#test accuracy \n",
    "from sklearn.metrics import accuracy_score\n",
    "acc = accuracy_score(y_test_t,y_pred_t)\n",
    "acc"
   ]
  },
  {
   "cell_type": "code",
   "execution_count": 43,
   "metadata": {
    "colab": {
     "base_uri": "https://localhost:8080/",
     "height": 563
    },
    "id": "en548eP4cQ-g",
    "outputId": "fb374283-fdbf-4cca-b43c-b4816a125f42"
   },
   "outputs": [
    {
     "data": {
      "text/plain": [
       "Text(0.5, 1.0, 'Training and validation loss')"
      ]
     },
     "execution_count": 43,
     "metadata": {},
     "output_type": "execute_result"
    },
    {
     "data": {
      "image/png": "[encoded data removed]",
      "text/plain": [
       "<Figure size 432x288 with 1 Axes>"
      ]
     },
     "metadata": {
      "needs_background": "light"
     },
     "output_type": "display_data"
    },
    {
     "data": {
      "image/png": "[encoded data removed]",
      "text/plain": [
       "<Figure size 432x288 with 1 Axes>"
      ]
     },
     "metadata": {
      "needs_background": "light"
     },
     "output_type": "display_data"
    }
   ],
   "source": [
    "import matplotlib.pyplot as plt\n",
    "# Retrieve a list of accuracy results on training and validation data\n",
    "# sets for each training epoch\n",
    "acc = history.history['accuracy']\n",
    "val_acc = history.history['val_accuracy']\n",
    "\n",
    "# Retrieve a list of list results on training and validation data\n",
    "# sets for each training epoch\n",
    "loss = history.history['loss']\n",
    "val_loss = history.history['val_loss']\n",
    "\n",
    "# Get number of epochs\n",
    "epochs = range(len(acc))\n",
    "\n",
    "# Plot training and validation accuracy per epoch\n",
    "plt.plot(epochs, acc, label = 'acc')\n",
    "plt.plot(epochs, val_acc , label = 'Val_acc')\n",
    "plt.legend()\n",
    "plt.title('Training and validation accuracy')\n",
    "\n",
    "plt.figure()\n",
    "\n",
    "# Plot training and validation loss per epoch\n",
    "plt.plot(epochs, loss, label = 'loss')\n",
    "plt.plot(epochs, val_loss, label = 'val_loss')\n",
    "plt.legend()\n",
    "plt.title('Training and validation loss')"
   ]
  },
  {
   "cell_type": "code",
   "execution_count": null,
   "metadata": {
    "id": "4VAMk6IuCK_4"
   },
   "outputs": [],
   "source": []
  }
 ],
 "metadata": {
  "accelerator": "GPU",
  "colab": {
   "collapsed_sections": [],
   "name": "Mathnet Bangla Digit.ipynb",
   "provenance": []
  },
  "kernelspec": {
   "display_name": "Python 3",
   "language": "python",
   "name": "python3"
  },
  "language_info": {
   "codemirror_mode": {
    "name": "ipython",
    "version": 3
   },
   "file_extension": ".py",
   "mimetype": "text/x-python",
   "name": "python",
   "nbconvert_exporter": "python",
   "pygments_lexer": "ipython3",
   "version": "3.8.3"
  }
 },
 "nbformat": 4,
 "nbformat_minor": 5
}
